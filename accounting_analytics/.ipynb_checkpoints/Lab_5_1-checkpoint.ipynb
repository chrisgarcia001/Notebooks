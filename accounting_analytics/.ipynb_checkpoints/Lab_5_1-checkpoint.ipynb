{
 "cells": [
  {
   "cell_type": "markdown",
   "metadata": {},
   "source": [
    "# Accounting Analytics  Lab 5-1: Retail Industry Descriptive Statistics"
   ]
  },
  {
   "cell_type": "markdown",
   "metadata": {},
   "source": [
    "**Keywords:** Descriptive Statistics, Graph, Retail IndustryLab \n",
    "\n",
    "**Insight:** Descriptive analysis uses facts and statistics to explain what happened. In this lab, we report descriptive statistics on the retail industry to get a better feel for what was reported as financial outcomes during 2018.\n",
    "\n",
    "**Required:**\n",
    "\n",
    "1.Compute descriptive statistics for the assets, sales, and income for the retail industry in 2018.\n",
    "\n",
    "2.Calculate return on assets and create a histogram showing theperformance across the dataset.\n",
    "\n",
    "**Ask the Question:** What was the distribution of assets and ROA in 2018 for the retail industry?\n",
    "\n",
    "**Master the Data:** The reported results of financial performance are included in the dataset for the retail industry."
   ]
  },
  {
   "cell_type": "code",
   "execution_count": 1,
   "metadata": {},
   "outputs": [],
   "source": [
    "# Import key library functions needed.\n",
    "import pandas as pd\n",
    "import numpy as np"
   ]
  },
  {
   "cell_type": "markdown",
   "metadata": {},
   "source": [
    "### Part 1: Data Reading and Initial Exploration"
   ]
  },
  {
   "cell_type": "markdown",
   "metadata": {},
   "source": [
    "#### **Step 1:** Open the Excel File *Lab_5_1_Data.xlsx* and view the first few rows:"
   ]
  },
  {
   "cell_type": "code",
   "execution_count": 2,
   "metadata": {},
   "outputs": [
    {
     "data": {
      "text/html": [
       "<div>\n",
       "<style scoped>\n",
       "    .dataframe tbody tr th:only-of-type {\n",
       "        vertical-align: middle;\n",
       "    }\n",
       "\n",
       "    .dataframe tbody tr th {\n",
       "        vertical-align: top;\n",
       "    }\n",
       "\n",
       "    .dataframe thead th {\n",
       "        text-align: right;\n",
       "    }\n",
       "</style>\n",
       "<table border=\"1\" class=\"dataframe\">\n",
       "  <thead>\n",
       "    <tr style=\"text-align: right;\">\n",
       "      <th></th>\n",
       "      <th>Global Company Key</th>\n",
       "      <th>Data Date</th>\n",
       "      <th>Data Year - Fiscal</th>\n",
       "      <th>Ticker Symbol</th>\n",
       "      <th>Assets - Total</th>\n",
       "      <th>Net Income (Loss)</th>\n",
       "      <th>Sales (Net)</th>\n",
       "      <th>Standard Industry Classification Code</th>\n",
       "    </tr>\n",
       "  </thead>\n",
       "  <tbody>\n",
       "    <tr>\n",
       "      <th>0</th>\n",
       "      <td>116104</td>\n",
       "      <td>20180131</td>\n",
       "      <td>2017</td>\n",
       "      <td>0190A</td>\n",
       "      <td>1201.007</td>\n",
       "      <td>-124.959</td>\n",
       "      <td>2370.118</td>\n",
       "      <td>5621</td>\n",
       "    </tr>\n",
       "    <tr>\n",
       "      <th>1</th>\n",
       "      <td>145977</td>\n",
       "      <td>20181231</td>\n",
       "      <td>2018</td>\n",
       "      <td>AAP</td>\n",
       "      <td>9040.648</td>\n",
       "      <td>423.847</td>\n",
       "      <td>9580.554</td>\n",
       "      <td>5531</td>\n",
       "    </tr>\n",
       "    <tr>\n",
       "      <th>2</th>\n",
       "      <td>30059</td>\n",
       "      <td>20180131</td>\n",
       "      <td>2017</td>\n",
       "      <td>AEO</td>\n",
       "      <td>1816.313</td>\n",
       "      <td>204.163</td>\n",
       "      <td>3795.549</td>\n",
       "      <td>5600</td>\n",
       "    </tr>\n",
       "    <tr>\n",
       "      <th>3</th>\n",
       "      <td>64768</td>\n",
       "      <td>20181231</td>\n",
       "      <td>2018</td>\n",
       "      <td>AMZN</td>\n",
       "      <td>162648.000</td>\n",
       "      <td>10073.000</td>\n",
       "      <td>232887.000</td>\n",
       "      <td>5961</td>\n",
       "    </tr>\n",
       "    <tr>\n",
       "      <th>4</th>\n",
       "      <td>63643</td>\n",
       "      <td>20180131</td>\n",
       "      <td>2017</td>\n",
       "      <td>ANF</td>\n",
       "      <td>2325.692</td>\n",
       "      <td>7.094</td>\n",
       "      <td>3492.690</td>\n",
       "      <td>5651</td>\n",
       "    </tr>\n",
       "  </tbody>\n",
       "</table>\n",
       "</div>"
      ],
      "text/plain": [
       "   Global Company Key  Data Date  Data Year - Fiscal Ticker Symbol  \\\n",
       "0              116104   20180131                2017         0190A   \n",
       "1              145977   20181231                2018           AAP   \n",
       "2               30059   20180131                2017           AEO   \n",
       "3               64768   20181231                2018          AMZN   \n",
       "4               63643   20180131                2017           ANF   \n",
       "\n",
       "   Assets - Total  Net Income (Loss)  Sales (Net)  \\\n",
       "0        1201.007           -124.959     2370.118   \n",
       "1        9040.648            423.847     9580.554   \n",
       "2        1816.313            204.163     3795.549   \n",
       "3      162648.000          10073.000   232887.000   \n",
       "4        2325.692              7.094     3492.690   \n",
       "\n",
       "   Standard Industry Classification Code  \n",
       "0                                   5621  \n",
       "1                                   5531  \n",
       "2                                   5600  \n",
       "3                                   5961  \n",
       "4                                   5651  "
      ]
     },
     "execution_count": 2,
     "metadata": {},
     "output_type": "execute_result"
    }
   ],
   "source": [
    "df = pd.read_excel('./Lab_5_1_Data.xlsx')\n",
    "df.head()"
   ]
  },
  {
   "cell_type": "markdown",
   "metadata": {},
   "source": [
    "**Step 2:** Display summary statistics for *Assets - Total* column."
   ]
  },
  {
   "cell_type": "code",
   "execution_count": 3,
   "metadata": {},
   "outputs": [
    {
     "data": {
      "text/plain": [
       "count       161.000000\n",
       "mean       8695.315708\n",
       "std       26733.194302\n",
       "min           6.998000\n",
       "25%         480.932000\n",
       "50%        1413.613000\n",
       "75%        5722.051000\n",
       "max      204522.000000\n",
       "Name: Assets - Total, dtype: float64"
      ]
     },
     "execution_count": 3,
     "metadata": {},
     "output_type": "execute_result"
    }
   ],
   "source": [
    "df['Assets - Total'].describe()"
   ]
  },
  {
   "cell_type": "markdown",
   "metadata": {},
   "source": [
    "**Step 3:** Add Return on Assets (ROA) Column: ROA = Net Income (Loss) / Total Assets"
   ]
  },
  {
   "cell_type": "code",
   "execution_count": 4,
   "metadata": {},
   "outputs": [
    {
     "data": {
      "text/html": [
       "<div>\n",
       "<style scoped>\n",
       "    .dataframe tbody tr th:only-of-type {\n",
       "        vertical-align: middle;\n",
       "    }\n",
       "\n",
       "    .dataframe tbody tr th {\n",
       "        vertical-align: top;\n",
       "    }\n",
       "\n",
       "    .dataframe thead th {\n",
       "        text-align: right;\n",
       "    }\n",
       "</style>\n",
       "<table border=\"1\" class=\"dataframe\">\n",
       "  <thead>\n",
       "    <tr style=\"text-align: right;\">\n",
       "      <th></th>\n",
       "      <th>Global Company Key</th>\n",
       "      <th>Data Date</th>\n",
       "      <th>Data Year - Fiscal</th>\n",
       "      <th>Ticker Symbol</th>\n",
       "      <th>Assets - Total</th>\n",
       "      <th>Net Income (Loss)</th>\n",
       "      <th>Sales (Net)</th>\n",
       "      <th>Standard Industry Classification Code</th>\n",
       "      <th>ROA</th>\n",
       "    </tr>\n",
       "  </thead>\n",
       "  <tbody>\n",
       "    <tr>\n",
       "      <th>0</th>\n",
       "      <td>116104</td>\n",
       "      <td>20180131</td>\n",
       "      <td>2017</td>\n",
       "      <td>0190A</td>\n",
       "      <td>1201.007</td>\n",
       "      <td>-124.959</td>\n",
       "      <td>2370.118</td>\n",
       "      <td>5621</td>\n",
       "      <td>-0.104045</td>\n",
       "    </tr>\n",
       "    <tr>\n",
       "      <th>1</th>\n",
       "      <td>145977</td>\n",
       "      <td>20181231</td>\n",
       "      <td>2018</td>\n",
       "      <td>AAP</td>\n",
       "      <td>9040.648</td>\n",
       "      <td>423.847</td>\n",
       "      <td>9580.554</td>\n",
       "      <td>5531</td>\n",
       "      <td>0.046882</td>\n",
       "    </tr>\n",
       "    <tr>\n",
       "      <th>2</th>\n",
       "      <td>30059</td>\n",
       "      <td>20180131</td>\n",
       "      <td>2017</td>\n",
       "      <td>AEO</td>\n",
       "      <td>1816.313</td>\n",
       "      <td>204.163</td>\n",
       "      <td>3795.549</td>\n",
       "      <td>5600</td>\n",
       "      <td>0.112405</td>\n",
       "    </tr>\n",
       "    <tr>\n",
       "      <th>3</th>\n",
       "      <td>64768</td>\n",
       "      <td>20181231</td>\n",
       "      <td>2018</td>\n",
       "      <td>AMZN</td>\n",
       "      <td>162648.000</td>\n",
       "      <td>10073.000</td>\n",
       "      <td>232887.000</td>\n",
       "      <td>5961</td>\n",
       "      <td>0.061931</td>\n",
       "    </tr>\n",
       "    <tr>\n",
       "      <th>4</th>\n",
       "      <td>63643</td>\n",
       "      <td>20180131</td>\n",
       "      <td>2017</td>\n",
       "      <td>ANF</td>\n",
       "      <td>2325.692</td>\n",
       "      <td>7.094</td>\n",
       "      <td>3492.690</td>\n",
       "      <td>5651</td>\n",
       "      <td>0.003050</td>\n",
       "    </tr>\n",
       "  </tbody>\n",
       "</table>\n",
       "</div>"
      ],
      "text/plain": [
       "   Global Company Key  Data Date  Data Year - Fiscal Ticker Symbol  \\\n",
       "0              116104   20180131                2017         0190A   \n",
       "1              145977   20181231                2018           AAP   \n",
       "2               30059   20180131                2017           AEO   \n",
       "3               64768   20181231                2018          AMZN   \n",
       "4               63643   20180131                2017           ANF   \n",
       "\n",
       "   Assets - Total  Net Income (Loss)  Sales (Net)  \\\n",
       "0        1201.007           -124.959     2370.118   \n",
       "1        9040.648            423.847     9580.554   \n",
       "2        1816.313            204.163     3795.549   \n",
       "3      162648.000          10073.000   232887.000   \n",
       "4        2325.692              7.094     3492.690   \n",
       "\n",
       "   Standard Industry Classification Code       ROA  \n",
       "0                                   5621 -0.104045  \n",
       "1                                   5531  0.046882  \n",
       "2                                   5600  0.112405  \n",
       "3                                   5961  0.061931  \n",
       "4                                   5651  0.003050  "
      ]
     },
     "execution_count": 4,
     "metadata": {},
     "output_type": "execute_result"
    }
   ],
   "source": [
    "df['ROA'] = df['Net Income (Loss)'] / df['Assets - Total']\n",
    "df.head()"
   ]
  },
  {
   "cell_type": "markdown",
   "metadata": {},
   "source": [
    "**Step 4:** Display ROA Histogram"
   ]
  },
  {
   "cell_type": "code",
   "execution_count": 5,
   "metadata": {},
   "outputs": [
    {
     "data": {
      "text/plain": [
       "array([[<matplotlib.axes._subplots.AxesSubplot object at 0x000002742C562F10>]],\n",
       "      dtype=object)"
      ]
     },
     "execution_count": 5,
     "metadata": {},
     "output_type": "execute_result"
    },
    {
     "data": {
      "image/png": "[encoded data removed]",
      "text/plain": [
       "<Figure size 432x288 with 1 Axes>"
      ]
     },
     "metadata": {
      "needs_background": "light"
     },
     "output_type": "display_data"
    }
   ],
   "source": [
    "df.hist('ROA')"
   ]
  },
  {
   "cell_type": "markdown",
   "metadata": {},
   "source": [
    "## Part 2: Questions and Exercises"
   ]
  },
  {
   "cell_type": "markdown",
   "metadata": {},
   "source": [
    "**Question 1:** What is the mean Net Income for 2018 for the retail industry ($ millions)?"
   ]
  },
  {
   "cell_type": "code",
   "execution_count": 6,
   "metadata": {},
   "outputs": [
    {
     "data": {
      "text/plain": [
       "595.2132608695654"
      ]
     },
     "execution_count": 6,
     "metadata": {},
     "output_type": "execute_result"
    }
   ],
   "source": [
    "np.mean(df[df['Data Year - Fiscal'] == 2018]['Net Income (Loss)'])"
   ]
  },
  {
   "cell_type": "markdown",
   "metadata": {},
   "source": [
    "**Question 2:**  What is the mean Sales (net) for 2018 for the retail industry ($ millions)?"
   ]
  },
  {
   "cell_type": "code",
   "execution_count": 7,
   "metadata": {},
   "outputs": [
    {
     "data": {
      "text/plain": [
       "15987.724275362314"
      ]
     },
     "execution_count": 7,
     "metadata": {},
     "output_type": "execute_result"
    }
   ],
   "source": [
    "np.mean(df[df['Data Year - Fiscal'] == 2018]['Sales (Net)'])"
   ]
  },
  {
   "cell_type": "markdown",
   "metadata": {},
   "source": [
    "**Question 3:** . Which is more likely to be negative? Sales (Net) or net income?"
   ]
  },
  {
   "cell_type": "code",
   "execution_count": 8,
   "metadata": {},
   "outputs": [
    {
     "name": "stdout",
     "output_type": "stream",
     "text": [
      "Negative Count (Sales): 0\n"
     ]
    }
   ],
   "source": [
    "print('Negative Count (Sales):', df[df['Sales (Net)'] < 0].shape[0])"
   ]
  },
  {
   "cell_type": "code",
   "execution_count": 9,
   "metadata": {},
   "outputs": [
    {
     "name": "stdout",
     "output_type": "stream",
     "text": [
      "Negative Count (Net Income): 34\n"
     ]
    }
   ],
   "source": [
    "print('Negative Count (Net Income):', df[df['Net Income (Loss)'] < 0].shape[0])"
   ]
  },
  {
   "cell_type": "markdown",
   "metadata": {},
   "source": [
    "Answer: Net Income is more likely to be negative."
   ]
  },
  {
   "cell_type": "markdown",
   "metadata": {},
   "source": [
    "**Question 4:**  Which observation is the outlier for return on sales?"
   ]
  },
  {
   "cell_type": "code",
   "execution_count": 10,
   "metadata": {},
   "outputs": [
    {
     "name": "stdout",
     "output_type": "stream",
     "text": [
      "Outlier Range [lower, upper]: [-0.18997491632715863, 0.27325018543321017]\n"
     ]
    }
   ],
   "source": [
    "outlier_limit = 2 * np.std(df['ROA'])\n",
    "mean = np.mean(df['ROA'])\n",
    "print('Outlier Range [lower, upper]:', [mean - outlier_limit, mean + outlier_limit])"
   ]
  },
  {
   "cell_type": "markdown",
   "metadata": {},
   "source": [
    "**NOTE ON THE ABOVE:** The approach used for finding outliers is to consider anything exceeding +/- 2 standard deviations above/below the mean to be an outlier. Statistically, this means outliers are those observations occurring in either the top 2% (i.e. > +2 sigma) or bottom 2% (i.e. < -2 sigma)."
   ]
  },
  {
   "cell_type": "markdown",
   "metadata": {},
   "source": [
    "**Question 5:**  What is the maximum net income achieved in 2018 for the retail industry ($ millions)?"
   ]
  },
  {
   "cell_type": "code",
   "execution_count": 11,
   "metadata": {},
   "outputs": [
    {
     "data": {
      "text/plain": [
       "10073.0"
      ]
     },
     "execution_count": 11,
     "metadata": {},
     "output_type": "execute_result"
    }
   ],
   "source": [
    "np.max(df[df['Data Year - Fiscal'] == 2018]['Net Income (Loss)'])"
   ]
  },
  {
   "cell_type": "markdown",
   "metadata": {},
   "source": [
    "**Question 6:**  How many values are in the -1.03 to 0.07 bin (in the ROA Histogram)?"
   ]
  },
  {
   "cell_type": "code",
   "execution_count": 12,
   "metadata": {},
   "outputs": [
    {
     "name": "stdout",
     "output_type": "stream",
     "text": [
      "Count of values in range: 98\n"
     ]
    }
   ],
   "source": [
    "val_count = df[(df['ROA'] >= -1.03) & (df['ROA'] < 0.07)]\n",
    "print('Count of values in range:', val_count.shape[0])"
   ]
  },
  {
   "cell_type": "markdown",
   "metadata": {},
   "source": [
    "**Question 7:**  How many bins of the histogram have values in them?"
   ]
  },
  {
   "cell_type": "code",
   "execution_count": 13,
   "metadata": {},
   "outputs": [
    {
     "name": "stdout",
     "output_type": "stream",
     "text": [
      "Non-empty bins with counts (by left edge): {-0.7: 1, -0.3: 6, -0.2: 7, -0.1: 20, 0.0: 91, 0.1: 31, 0.2: 3}\n"
     ]
    }
   ],
   "source": [
    "# These values can be adjusted for the bin.\n",
    "bin_width = 0.1\n",
    "min_bin_left_edge = -0.7\n",
    "num_bins = 10\n",
    "bins = {}\n",
    "\n",
    "# Loop through each bin and count the number of values.\n",
    "for i in range(num_bins):\n",
    "    v = round(min_bin_left_edge + (i * bin_width), 1)\n",
    "    ct = df[(df['ROA'] >= v) & (df['ROA'] < v + bin_width)].shape[0]\n",
    "    if ct > 0:\n",
    "        bins[v] = ct\n",
    "        \n",
    "# Print the result.\n",
    "print('Non-empty bins with counts (by left edge):', bins)"
   ]
  },
  {
   "cell_type": "markdown",
   "metadata": {},
   "source": [
    "**Question 8:**  What is the median sales number?"
   ]
  },
  {
   "cell_type": "code",
   "execution_count": 14,
   "metadata": {},
   "outputs": [
    {
     "data": {
      "text/plain": [
       "2370.118"
      ]
     },
     "execution_count": 14,
     "metadata": {},
     "output_type": "execute_result"
    }
   ],
   "source": [
    "np.median(df['Sales (Net)'])"
   ]
  },
  {
   "cell_type": "markdown",
   "metadata": {},
   "source": [
    "**Question 9:**  How many items are included in the dataset?"
   ]
  },
  {
   "cell_type": "code",
   "execution_count": 15,
   "metadata": {},
   "outputs": [
    {
     "data": {
      "text/plain": [
       "161"
      ]
     },
     "execution_count": 15,
     "metadata": {},
     "output_type": "execute_result"
    }
   ],
   "source": [
    "df.shape[0]"
   ]
  },
  {
   "cell_type": "markdown",
   "metadata": {},
   "source": [
    "**Question 10:**  What is the standard deviation of sales?"
   ]
  },
  {
   "cell_type": "code",
   "execution_count": 16,
   "metadata": {},
   "outputs": [
    {
     "data": {
      "text/plain": [
       "49304.58140224692"
      ]
     },
     "execution_count": 16,
     "metadata": {},
     "output_type": "execute_result"
    }
   ],
   "source": [
    "np.std(df['Sales (Net)'])"
   ]
  },
  {
   "cell_type": "code",
   "execution_count": null,
   "metadata": {},
   "outputs": [],
   "source": []
  }
 ],
 "metadata": {
  "kernelspec": {
   "display_name": "Python 3",
   "language": "python",
   "name": "python3"
  },
  "language_info": {
   "codemirror_mode": {
    "name": "ipython",
    "version": 3
   },
   "file_extension": ".py",
   "mimetype": "text/x-python",
   "name": "python",
   "nbconvert_exporter": "python",
   "pygments_lexer": "ipython3",
   "version": "3.8.3"
  }
 },
 "nbformat": 4,
 "nbformat_minor": 4
}
