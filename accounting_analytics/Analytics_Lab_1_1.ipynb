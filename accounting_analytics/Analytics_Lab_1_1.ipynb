{
 "cells": [
  {
   "cell_type": "markdown",
   "metadata": {},
   "source": [
    "# Analytics Lab 1-1: Predicting Bankruptcy Using Altman's Z\n",
    "\n",
    "**Keywords:** Predicting Bankruptcy, Distress, Classification\n",
    "\n",
    "**Insight:** In 1968, Edward Altman published a paper predicting bankruptcyusing an analysis called Altman’s Z.  The basic terminology is still used today more than fifty years later.\n",
    "\n",
    "Why is it a classification exercise? It’s because we are trying to put companies into classes, whether companies will be bankrupt or not.\n",
    "\n",
    "The base of his analysis predicts whether certain common business ratios could be used to classify bankrupt firms as compared to a matched sample of firms. \n",
    "\n",
    "Altman considered more than 20 possible ratios of firm performance, but the resulting analysis found that bankruptcy prediction is a linear combination of five common business ratios including the following:\n",
    "\n",
    "1. ***X1 = Working capital / Total assets***: Measures how liquid, cash-like assets (or liquidity level in relation to the size of the company). \n",
    "\n",
    "2. ***X2 = Retained Earnings / Total assets***: Measures long-term profitability over the life of the company\n",
    "\n",
    "3. ***X3 = Earnings before interest and taxes / Total assets***: Measures recent, or short-term profitability of the company\n",
    "\n",
    "4. ***X4 =  Market value of stockholders’ equity / Book value of total debt owed***: Long-term solvency of the company, or whether the company will have sufficient funds to pay its debt as it comes due.\n",
    "\n",
    "5. ***X5 = Sales / Total Assets***: A measure of efficiency, or how well assets are utilized. \n",
    "\n",
    "**Required:**\n",
    "\n",
    "1. Compute the Altman’s five factors used to predict bankruptcy.\n",
    "2. Weight each of those factors using Altman’s bankruptcy prediction weights to arrive at Altman’s Z score.\n",
    "3. Classify each company as either in the \"Distress Zone\", \"Gray Zone\" or \"Safe Zone\" for Bankruptcy using Altman’s classifications through use of a histogram.\n",
    "\n",
    "**Ask the Question:** Which companies do we predict will go bankrupt?\n",
    "\n",
    "\n",
    "\n"
   ]
  },
  {
   "cell_type": "code",
   "execution_count": null,
   "metadata": {},
   "outputs": [],
   "source": [
    "# Import key library functions needed.\n",
    "import pandas as pd\n",
    "import numpy as np"
   ]
  },
  {
   "cell_type": "markdown",
   "metadata": {},
   "source": [
    "## Part 1: Master the Data\n",
    "\n",
    "Open the file *Python_Lab_1_1_Data.xlsx*\n",
    "\n",
    "The Financial data we will use was gathered for each publicly traded firms in the retail sector. The dataset contains details on 2,329 firms with all necessary data and years from 2009 to 2017. The data dictionary for the dataset is as follows:\n",
    "\n",
    "- *gvkey:* A unique code for each company given by Compustat, the data provider for this financial statement data\n",
    "\n",
    "- *conm:* Company name\n",
    "\n",
    "- *fyear* = The fiscal year \n",
    "\n",
    "- *act:* Current assets ($ millions) \n",
    "\n",
    "- *at:* Total assets  ($ millions)\n",
    "\n",
    "- *ebit:* Earnings before interest and taxes  ($ millions)\n",
    "\n",
    "- *lct:* Current liabilities  ($ millions)\n",
    "\n",
    "- *lt:* Total liabilities  ($ millions)\n",
    "\n",
    "- *ni:* Net income  ($ millions)\n",
    "\n",
    "- *re:* Retained earnings  ($ millions)\n",
    "\n",
    "- *sale:* Net sales  ($ millions)\n",
    "\n",
    "- *ME:* Market value of equity  ($ millions)\n",
    "\n",
    "**Exhibit 1.4** Lending Club Statistics, [Source](https://www.lendingclub.com/info/statistics.action), (Accessed 1/15/2019)"
   ]
  },
  {
   "cell_type": "code",
   "execution_count": null,
   "metadata": {},
   "outputs": [],
   "source": [
    "# Specify the excel file containing multiple worksheets (i.e. tables).\n",
    "data_file = './Python_Lab_1_1_Data.xlsx'\n",
    "\n",
    "# Create a variable for sales transactions containing the Sales_Transactions worksheet data.\n",
    "data = pd.read_excel(data_file, 'Sheet 1')\n",
    "\n",
    "# View the first few rows\n",
    "data.head()"
   ]
  },
  {
   "cell_type": "markdown",
   "metadata": {},
   "source": [
    "#### Step 1: Add columns X1 - X5 and compute their respective values"
   ]
  },
  {
   "cell_type": "code",
   "execution_count": null,
   "metadata": {},
   "outputs": [],
   "source": [
    "# X1 = Working Capital / Total Assets = (act - lct) / at\n",
    "data = data.assign(X1 = lambda x: ((x['act'] - x['lct']) / x['at']))\n",
    "\n",
    "# X2 = Retained Earnings / Total Assets = re / at\n",
    "data = data.assign(X2 = lambda x: (x['re']/ x['at']))\n",
    "\n",
    "# X3 = Earnings before interest and taxes / Total Assets = ebit / at\n",
    "data = data.assign(X3 = lambda x: (x['ebit'] / x['at']))\n",
    "\n",
    "# X4 = Market value of stockholder's equity / Book value of total debt owed = ME / lt\n",
    "data = data.assign(X4 = lambda x: (x['ME'] / x['lt']))\n",
    "\n",
    "# X5 = Sales / Total Assets = sale / at\n",
    "data = data.assign(X5 = lambda x: (x['sale'] / x['at']))\n",
    "\n",
    "# View the updated data\n",
    "data.head()"
   ]
  },
  {
   "cell_type": "markdown",
   "metadata": {},
   "source": [
    "## Part 2: Perform the Analysis\n",
    "\n",
    "Altman’s Z is a bankruptcy prediction using a linear combination of five common business ratios. In essence, the higher of each of these common business ratios, the less likely the company would be to go bankrupt. The original Z-score formula was as follows: \n",
    "\n",
    "$Z = 1.2X_{1} + 1.4X_{2} + 3.3X_{3} + 0.6X_{4} + 1.0X_{5} $\n",
    "\n",
    "\n",
    "Altman found he could accurately classify the firms into three \"zones\", or classes, using the following cutoff-based\n",
    "Decision Rules:\n",
    "\n",
    "| Condition                       | Classification                           |\n",
    "| :------------------------------ | ---------------------------------------- |\n",
    "| Z  <  1.80                      |  Bankrupt, or \"Distress Zone\"            |\n",
    "| Z >= 1. 80 and   Z < 3.0        |  At risk of Bankruptcy, or \"Gray Zone\"   |\n",
    "| Z >= 3.0                        |\t Nonbankrupt, or \"Safe Zone\"             |\n",
    "\n",
    "Let's add a \"Z\" column and a column called \"Class\" that implements these decision rules."
   ]
  },
  {
   "cell_type": "code",
   "execution_count": null,
   "metadata": {},
   "outputs": [],
   "source": [
    "# Add the Z column\n",
    "data = data.assign(Z = lambda x: (1.2 * x['X1']) + (1.4 * x['X2']) + (3.3 * x['X3']) + (0.6 * x['X4']) + x['X5'])\n",
    "\n",
    "# Put the decision rules into a small but separate function\n",
    "classif = lambda z: 'Safe Zone' if z >= 3.0 else 'Gray Zone' if z >= 1.8 else 'Distress Zone'\n",
    "\n",
    "# Add the Class column\n",
    "data['Class'] = data['Z'].map(classif)\n",
    "\n",
    "# View the updated data\n",
    "data.head()"
   ]
  },
  {
   "cell_type": "markdown",
   "metadata": {},
   "source": [
    "Now let's use a histogram to view the number of occurrences in each class."
   ]
  },
  {
   "cell_type": "code",
   "execution_count": null,
   "metadata": {},
   "outputs": [],
   "source": [
    "# Build a small data frame to hold counts of each class\n",
    "plot_data = pd.DataFrame({'Classification':['Distress Zone', 'Gray Zone', 'Safe Zone'],\n",
    "                          'Count':[data[data['Class'] == 'Distress Zone'].shape[0],\n",
    "                                   data[data['Class'] == 'Gray Zone'].shape[0],\n",
    "                                   data[data['Class'] == 'Safe Zone'].shape[0]]})\n",
    "\n",
    "# Implement the histogram as a bar plot.\n",
    "ax = plot_data.plot.bar(x='Classification', y='Count', rot=0)\n",
    "\n",
    "# Display the summarized plot data to see exact counts\n",
    "plot_data.head()"
   ]
  },
  {
   "cell_type": "markdown",
   "metadata": {},
   "source": [
    "### Share the Story\n",
    "\n",
    "We now have a bankruptcy prediction for every retail company with availability date for each firm-year combination.  Auditors can use this score to understand the financial risk facing their client.  Investors can use this score to under the financial risk they face if they invest in the firm.  Banks and lenders can also use this score to decide if the company will be around to pay the loan back when it is due.\n",
    "\n",
    "### Assessment\n",
    "\n",
    "Please answer the following questions.\n",
    "\n",
    "**Question 1:** How many firms have an Altman Z-score less than 1.8 and fall in the \"Distress Zone\"?\n",
    "\n",
    "*Answer:* Looking at the table above, we see that there are 66 firms in the \"Distress Zone\" category.\n",
    "\n",
    "**Question 2:** How many firms have an Altman Z-score greater than or equal to 1.8, but less than 3.0 and fall in the \"Gray Zone\"?\n",
    "\n",
    "*Answer*: Looking at the table above, we see that there are 51 firms in the \"Gray Zone\" category.\n",
    "\n",
    "**Question 3:** Based on the Altman Z's formulas, what is the general relationship between each of the five factors (or financial ratios) and the chance of going bankrupt?\n",
    "\n",
    "*Answer:* By the decision rules, the higher the Z-score the lower the chance of going bankrupt. As the Z score is the sum of the weighted factors, since each factor weight (coefficient) is positive, this means that higher values of any factor will increase the Z score and therefore decrease the chance of going bankrupt.\n",
    "\n",
    "**Question 4:** With recent financial pressure from e-commerce firms like Amazon and bricks and mortar stores like Walmart, would you predict in more recent years that firms would go bankrupt more or less?\n",
    "\n",
    "*Answer:* All other considerations being equal, as competition increases the chance of a firm going bankrupt increases.\n",
    "\n",
    "**Question 5:** How many distinct companies and fiscal years are considered in this dataset? How many total rows are contained in the dataset?"
   ]
  },
  {
   "cell_type": "code",
   "execution_count": null,
   "metadata": {},
   "outputs": [],
   "source": [
    "print('Number of distinct companies represented', data['conm'].unique().shape[0])\n",
    "print('Number of distinct years (fiscal) represented', data['fyear'].unique().shape[0])\n",
    "print('Number of total rows', data.shape[0])"
   ]
  },
  {
   "cell_type": "markdown",
   "metadata": {},
   "source": [
    "## Part 3: Analyzing a Different Dataset\n",
    "\n",
    "For this part you will use the above analyses as an example and undertake a similar analysis yourself. Specifically, you should accomplish the following:\n",
    "\n",
    "1. Compute the Altman’s five factors used to predict bankruptcy.\n",
    "2. Weight each of those factors using Altman’s bankruptcy prediction weights to arrive at Altman’s Z score.\n",
    "3. Classify each company as either in the \"Distress Zone\", \"Gray Zone\" or \"Safe Zone\" for Bankruptcy using Altman’s classifications through use of a histogram.\n",
    "\n",
    "Please perform this analysis using the data file entitled *Python_Alt_Lab_1_1_Data.xlsx*.\n",
    "\n",
    "#### Step 1: Perform the Analysis and Display Key Results\n",
    "\n",
    "First, we read in the new data:"
   ]
  },
  {
   "cell_type": "code",
   "execution_count": null,
   "metadata": {},
   "outputs": [],
   "source": [
    "# Specify the excel file containing multiple worksheets (i.e. tables).\n",
    "data_file = './Python_Alt_Lab_1_1_Data.xlsx'\n",
    "\n",
    "# Create a variable for sales transactions containing the Sales_Transactions worksheet data.\n",
    "data = pd.read_excel(data_file, 'Sheet1')\n",
    "\n",
    "# View the first few rows\n",
    "data.head()"
   ]
  },
  {
   "cell_type": "markdown",
   "metadata": {},
   "source": [
    "Next, we add columns X1 through X5:"
   ]
  },
  {
   "cell_type": "code",
   "execution_count": null,
   "metadata": {},
   "outputs": [],
   "source": [
    "# X1 = Working Capital / Total Assets = (act - lct) / at\n",
    "data = data.assign(X1 = lambda x: ((x['act'] - x['lct']) / x['at']))\n",
    "\n",
    "# X2 = Retained Earnings / Total Assets = re / at\n",
    "data = data.assign(X2 = lambda x: (x['re']/ x['at']))\n",
    "\n",
    "# X3 = Earnings before interest and taxes / Total Assets = ebit / at\n",
    "data = data.assign(X3 = lambda x: (x['ebit'] / x['at']))\n",
    "\n",
    "# X4 = Market value of stockholder's equity / Book value of total debt owed = ME / lt\n",
    "data = data.assign(X4 = lambda x: (x['ME'] / x['lt']))\n",
    "\n",
    "# X5 = Sales / Total Assets = sale / at\n",
    "data = data.assign(X5 = lambda x: (x['sale'] / x['at']))\n",
    "\n",
    "# View the updated data\n",
    "data.head()"
   ]
  },
  {
   "cell_type": "markdown",
   "metadata": {},
   "source": [
    "Now add a *Z* column containing Altman's Z for each row, followed by a *Class* column containing the respective bankruptcy classification."
   ]
  },
  {
   "cell_type": "code",
   "execution_count": null,
   "metadata": {},
   "outputs": [],
   "source": [
    "# Add the Z column\n",
    "data = data.assign(Z = lambda x: (1.2 * x['X1']) + (1.4 * x['X2']) + (3.3 * x['X3']) + (0.6 * x['X4']) + x['X5'])\n",
    "\n",
    "# Put the decision rules into a small but separate function\n",
    "classif = lambda z: 'Safe Zone' if z >= 3.0 else 'Gray Zone' if z >= 1.8 else 'Distress Zone'\n",
    "\n",
    "# Add the Class column\n",
    "data['Class'] = data['Z'].map(classif)\n",
    "\n",
    "# View the updated data\n",
    "data.head()"
   ]
  },
  {
   "cell_type": "markdown",
   "metadata": {},
   "source": [
    "Finally, construct a histogram to show the counts of each distinct bankruptcy classification."
   ]
  },
  {
   "cell_type": "code",
   "execution_count": null,
   "metadata": {},
   "outputs": [],
   "source": [
    "# Build a small data frame to hold counts of each class\n",
    "plot_data = pd.DataFrame({'Classification':['Distress Zone', 'Gray Zone', 'Safe Zone'],\n",
    "                          'Count':[data[data['Class'] == 'Distress Zone'].shape[0],\n",
    "                                   data[data['Class'] == 'Gray Zone'].shape[0],\n",
    "                                   data[data['Class'] == 'Safe Zone'].shape[0]]})\n",
    "\n",
    "# Implement the histogram as a bar plot.\n",
    "ax = plot_data.plot.bar(x='Classification', y='Count', rot=0)\n",
    "\n",
    "# Display the summarized plot data to see exact counts\n",
    "plot_data.head()"
   ]
  },
  {
   "cell_type": "markdown",
   "metadata": {},
   "source": [
    "### Assessment\n",
    "\n",
    "Please answer the following questions.\n",
    "\n",
    "**Question 1:** How many firms have an Altman Z-score less than 1.8 and fall in the \"Distress Zone\"?\n",
    "\n",
    "*Answer:* Looking at the table above, we see that there are 778 firms in the \"Distress Zone\" category.\n",
    "\n",
    "**Question 2:** How many firms have an Altman Z-score greater than or equal to 1.8, but less than 3.0 and fall in the \"Gray Zone\"?\n",
    "\n",
    "*Answer*: Looking at the table above, we see that there are 300 firms in the \"Gray Zone\" category.\n",
    "\n",
    "**Question 3:** Based on the Altman Z's formulas, what is the general relationship between each of the five factors (or financial ratios) and the chance of going bankrupt?\n",
    "\n",
    "*Answer:* By the decision rules, the higher the Z-score the lower the chance of going bankrupt. As the Z score is the sum of the weighted factors, since each factor weight (coefficient) is positive, this means that higher values of any factor will increase the Z score and therefore decrease the chance of going bankrupt.\n",
    "\n",
    "**Question 4:** For factor X4, what is the appropriate weight based on Altman's Z?\n",
    "\n",
    "*Answer:* The coefficient for X4 is 0.6, as specified in the *Z* equation.\n",
    "\n",
    "**Question 5:** How many distinct companies and fiscal years are considered in this dataset? How many total rows are contained in the dataset?"
   ]
  },
  {
   "cell_type": "code",
   "execution_count": null,
   "metadata": {},
   "outputs": [],
   "source": [
    "print('Number of distinct companies represented', data['conm'].unique().shape[0])\n",
    "print('Number of distinct years (fiscal) represented', data['fyear'].unique().shape[0])\n",
    "print('Number of total rows', data.shape[0])"
   ]
  },
  {
   "cell_type": "code",
   "execution_count": null,
   "metadata": {},
   "outputs": [],
   "source": []
  }
 ],
 "metadata": {
  "kernelspec": {
   "display_name": "Python 3",
   "language": "python",
   "name": "python3"
  },
  "language_info": {
   "codemirror_mode": {
    "name": "ipython",
    "version": 3
   },
   "file_extension": ".py",
   "mimetype": "text/x-python",
   "name": "python",
   "nbconvert_exporter": "python",
   "pygments_lexer": "ipython3",
   "version": "3.8.3"
  }
 },
 "nbformat": 4,
 "nbformat_minor": 4
}
