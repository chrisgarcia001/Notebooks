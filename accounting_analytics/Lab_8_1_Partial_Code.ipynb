{
 "cells": [
  {
   "cell_type": "markdown",
   "metadata": {},
   "source": [
    "# Accounting Analytics Lab 8-1: Predicting Bankruptcy Using Altman's Z\n",
    "\n",
    "**Keywords:** Predicting Bankruptcy, Distress, Classification\n",
    "\n",
    "**Insight:** In 1968, Edward Altman published a paper predicting bankruptcyusing an analysis called Altman’s Z.  The basic terminology is still used today more than fifty years later.\n",
    "\n",
    "Why is it a classification exercise? It’s because we are trying to put companies into classes, whether companies will be bankrupt or not.\n",
    "\n",
    "The base of his analysis predicts whether certain common business ratios could be used to classify bankrupt firms as compared to a matched sample of firms. \n",
    "\n",
    "Altman considered more than 20 possible ratios of firm performance, but the resulting analysis found that bankruptcy prediction is a linear combination of five common business ratios including the following:\n",
    "\n",
    "1. ***X1 = Working capital / Total assets***: Measures how liquid, cash-like assets (or liquidity level in relation to the size of the company). \n",
    "\n",
    "2. ***X2 = Retained Earnings / Total assets***: Measures long-term profitability over the life of the company\n",
    "\n",
    "3. ***X3 = Earnings before interest and taxes / Total assets***: Measures recent, or short-term profitability of the company\n",
    "\n",
    "4. ***X4 =  Market value of stockholders’ equity / Book value of total debt owed***: Long-term solvency of the company, or whether the company will have sufficient funds to pay its debt as it comes due.\n",
    "\n",
    "5. ***X5 = Sales / Total Assets***: A measure of efficiency, or how well assets are utilized. \n",
    "\n",
    "**Required:**\n",
    "\n",
    "1. Compute the Altman’s five factors used to predict bankruptcy.\n",
    "2. Weight each of those factors using Altman’s bankruptcy prediction weights to arrive at Altman’s Z score.\n",
    "3. Classify each company as either in the \"Distress Zone\", \"Gray Zone\" or \"Safe Zone\" for Bankruptcy using Altman’s classifications through use of a histogram.\n",
    "\n",
    "**Ask the Question:** Which companies do we predict will go bankrupt?\n",
    "\n",
    "\n",
    "\n"
   ]
  },
  {
   "cell_type": "code",
   "execution_count": 1,
   "metadata": {},
   "outputs": [],
   "source": [
    "# Import key library functions needed.\n",
    "import pandas as pd\n",
    "import numpy as np"
   ]
  },
  {
   "cell_type": "markdown",
   "metadata": {},
   "source": [
    "## Part 1: Master the Data\n",
    "\n",
    "Open the file *Lab_8_1_Data.xlsx*\n",
    "\n",
    "The Financial data we will use was gathered for each publicly traded firms in the retail sector. The dataset contains details on 2,329 firms with all necessary data and years from 2009 to 2017. The data dictionary for the dataset is as follows:\n",
    "\n",
    "- *gvkey:* A unique code for each company given by Compustat, the data provider for this financial statement data\n",
    "\n",
    "- *conm:* Company name\n",
    "\n",
    "- *fyear* = The fiscal year \n",
    "\n",
    "- act:* Current assets ($ millions) \n",
    "\n",
    "- *at:* Total assets  ($ millions)\n",
    "\n",
    "- *ebit:* Earnings before interest and taxes  ($ millions)\n",
    "\n",
    "- *lct:* Current liabilities  ($ millions)\n",
    "\n",
    "- *lt:* Total liabilities  ($ millions)\n",
    "\n",
    "- *ni:* Net income  ($ millions)\n",
    "\n",
    "- *re:* Retained earnings  ($ millions)\n",
    "\n",
    "- *sale:* Net sales  ($ millions)\n",
    "\n",
    "- *ME:* Market value of equity  ($ millions)\n",
    "\n",
    "**Exhibit 1.4** Lending Club Statistics, [Source](https://www.lendingclub.com/info/statistics.action), (Accessed 1/15/2019)"
   ]
  },
  {
   "cell_type": "code",
   "execution_count": 2,
   "metadata": {},
   "outputs": [
    {
     "data": {
      "text/html": [
       "<div>\n",
       "<style scoped>\n",
       "    .dataframe tbody tr th:only-of-type {\n",
       "        vertical-align: middle;\n",
       "    }\n",
       "\n",
       "    .dataframe tbody tr th {\n",
       "        vertical-align: top;\n",
       "    }\n",
       "\n",
       "    .dataframe thead th {\n",
       "        text-align: right;\n",
       "    }\n",
       "</style>\n",
       "<table border=\"1\" class=\"dataframe\">\n",
       "  <thead>\n",
       "    <tr style=\"text-align: right;\">\n",
       "      <th></th>\n",
       "      <th>gvkey</th>\n",
       "      <th>conm</th>\n",
       "      <th>fyear</th>\n",
       "      <th>act</th>\n",
       "      <th>at</th>\n",
       "      <th>ebit</th>\n",
       "      <th>lct</th>\n",
       "      <th>lt</th>\n",
       "      <th>ni</th>\n",
       "      <th>re</th>\n",
       "      <th>sale</th>\n",
       "      <th>ME</th>\n",
       "    </tr>\n",
       "  </thead>\n",
       "  <tbody>\n",
       "    <tr>\n",
       "      <th>0</th>\n",
       "      <td>24218</td>\n",
       "      <td>CALLOWAY'S NURSERY INC</td>\n",
       "      <td>2012</td>\n",
       "      <td>8.038</td>\n",
       "      <td>23.143</td>\n",
       "      <td>2.371</td>\n",
       "      <td>5.697</td>\n",
       "      <td>15.954</td>\n",
       "      <td>0.609</td>\n",
       "      <td>-2.489</td>\n",
       "      <td>45.551</td>\n",
       "      <td>6.260</td>\n",
       "    </tr>\n",
       "    <tr>\n",
       "      <th>1</th>\n",
       "      <td>14225</td>\n",
       "      <td>FASTENAL CO</td>\n",
       "      <td>2009</td>\n",
       "      <td>982.364</td>\n",
       "      <td>1327.358</td>\n",
       "      <td>296.643</td>\n",
       "      <td>119.509</td>\n",
       "      <td>136.515</td>\n",
       "      <td>184.357</td>\n",
       "      <td>1189.036</td>\n",
       "      <td>1930.330</td>\n",
       "      <td>6139.027</td>\n",
       "    </tr>\n",
       "    <tr>\n",
       "      <th>2</th>\n",
       "      <td>14225</td>\n",
       "      <td>FASTENAL CO</td>\n",
       "      <td>2010</td>\n",
       "      <td>1085.698</td>\n",
       "      <td>1468.283</td>\n",
       "      <td>429.724</td>\n",
       "      <td>162.185</td>\n",
       "      <td>185.771</td>\n",
       "      <td>265.356</td>\n",
       "      <td>1276.675</td>\n",
       "      <td>2269.471</td>\n",
       "      <td>8832.591</td>\n",
       "    </tr>\n",
       "    <tr>\n",
       "      <th>3</th>\n",
       "      <td>14225</td>\n",
       "      <td>FASTENAL CO</td>\n",
       "      <td>2011</td>\n",
       "      <td>1236.138</td>\n",
       "      <td>1684.948</td>\n",
       "      <td>574.803</td>\n",
       "      <td>187.818</td>\n",
       "      <td>225.972</td>\n",
       "      <td>357.929</td>\n",
       "      <td>1439.167</td>\n",
       "      <td>2766.859</td>\n",
       "      <td>12876.245</td>\n",
       "    </tr>\n",
       "    <tr>\n",
       "      <th>4</th>\n",
       "      <td>14225</td>\n",
       "      <td>FASTENAL CO</td>\n",
       "      <td>2012</td>\n",
       "      <td>1286.656</td>\n",
       "      <td>1815.832</td>\n",
       "      <td>673.288</td>\n",
       "      <td>204.174</td>\n",
       "      <td>255.472</td>\n",
       "      <td>420.536</td>\n",
       "      <td>1495.958</td>\n",
       "      <td>3133.577</td>\n",
       "      <td>13834.711</td>\n",
       "    </tr>\n",
       "  </tbody>\n",
       "</table>\n",
       "</div>"
      ],
      "text/plain": [
       "   gvkey                    conm  fyear       act        at     ebit      lct  \\\n",
       "0  24218  CALLOWAY'S NURSERY INC   2012     8.038    23.143    2.371    5.697   \n",
       "1  14225             FASTENAL CO   2009   982.364  1327.358  296.643  119.509   \n",
       "2  14225             FASTENAL CO   2010  1085.698  1468.283  429.724  162.185   \n",
       "3  14225             FASTENAL CO   2011  1236.138  1684.948  574.803  187.818   \n",
       "4  14225             FASTENAL CO   2012  1286.656  1815.832  673.288  204.174   \n",
       "\n",
       "        lt       ni        re      sale         ME  \n",
       "0   15.954    0.609    -2.489    45.551      6.260  \n",
       "1  136.515  184.357  1189.036  1930.330   6139.027  \n",
       "2  185.771  265.356  1276.675  2269.471   8832.591  \n",
       "3  225.972  357.929  1439.167  2766.859  12876.245  \n",
       "4  255.472  420.536  1495.958  3133.577  13834.711  "
      ]
     },
     "execution_count": 2,
     "metadata": {},
     "output_type": "execute_result"
    }
   ],
   "source": [
    "# Specify the excel file containing multiple worksheets (i.e. tables).\n",
    "data_file = './Lab_8_1_Data.xlsx'\n",
    "\n",
    "# Create a variable for sales transactions containing the Sales_Transactions worksheet data.\n",
    "data = pd.read_excel(data_file, 'Sheet1')\n",
    "\n",
    "# View the first few rows\n",
    "data.head()"
   ]
  },
  {
   "cell_type": "markdown",
   "metadata": {},
   "source": [
    "#### Step 1: Add columns X1 - X5 and compute their respective values"
   ]
  },
  {
   "cell_type": "code",
   "execution_count": null,
   "metadata": {},
   "outputs": [],
   "source": [
    "# X1 = Working Capital / Total Assets = (act - lct) / at\n",
    "data = data.assign(X1 = lambda x: ((x['act'] - x['lct']) / x['at']))\n",
    "\n",
    "# X2 = Retained Earnings / Total Assets = re / at\n",
    "## TODO: Compute X2 and add it as a new column to the data\n",
    "\n",
    "# X3 = Earnings before interest and taxes / Total Assets = ebit / at\n",
    "## TODO: Compute X3 and add it as a new column to the data\n",
    "\n",
    "# X4 = Market value of stockholder's equity / Book value of total debt owed = ME / lt\n",
    "## TODO: Compute X4 and add it as a new column to the data\n",
    "\n",
    "# X5 = Sales / Total Assets = sale / at\n",
    "## TODO: Compute X5 and add it as a new column to the data\n",
    "\n",
    "# View the updated data\n",
    "## TODO: Show the first few rows of the updated data to confirm the columns have been added correctly"
   ]
  },
  {
   "cell_type": "markdown",
   "metadata": {},
   "source": [
    "## Part 2: Perform the Analysis\n",
    "\n",
    "Altman’s Z is a bankruptcy prediction using a linear combination of five common business ratios. In essence, the higher of each of these common business ratios, the less likely the company would be to go bankrupt. The original Z-score formula was as follows: \n",
    "\n",
    "$Z = 1.2X_{1} + 1.4X_{2} + 3.3X_{3} + 0.6X_{4} + 1.0X_{5} $\n",
    "\n",
    "\n",
    "Altman found he could accurately classify the firms into three \"zones\", or classes, using the following cutoff-based\n",
    "Decision Rules:\n",
    "\n",
    "| Condition                       | Classification                           |\n",
    "| :------------------------------ | ---------------------------------------- |\n",
    "| Z  <  1.80                      |  Bankrupt, or \"Distress Zone\"            |\n",
    "| Z >= 1. 80 and   Z < 3.0        |  At risk of Bankruptcy, or \"Gray Zone\"   |\n",
    "| Z >= 3.0                        |\t Nonbankrupt, or \"Safe Zone\"             |\n",
    "\n",
    "Let's add a \"Z\" column and a column called \"Class\" that implements these decision rules."
   ]
  },
  {
   "cell_type": "code",
   "execution_count": null,
   "metadata": {},
   "outputs": [],
   "source": [
    "# Add the Z column\n",
    "data = data.assign(Z = lambda x: (1.2 * x['X1']) + (1.4 * x['X2']) + (3.3 * x['X3']) + (0.6 * x['X4']) + x['X5'])\n",
    "\n",
    "# Put the decision rules into a small but separate function\n",
    "classif = lambda z: 'Safe Zone' if z >= 3.0 else 'Gray Zone' if z >= 1.8 else 'Distress Zone'\n",
    "\n",
    "# Add the Class column\n",
    "data['Class'] = data['Z'].map(classif)\n",
    "\n",
    "# View the updated data\n",
    "data.head()"
   ]
  },
  {
   "cell_type": "markdown",
   "metadata": {},
   "source": [
    "Now let's use a histogram to view the number of occurrences in each class."
   ]
  },
  {
   "cell_type": "code",
   "execution_count": null,
   "metadata": {},
   "outputs": [],
   "source": [
    "# Build a small data frame to hold counts of each class\n",
    "plot_data = pd.DataFrame({'Classification':['Distress Zone', 'Gray Zone', 'Safe Zone'],\n",
    "                          'Count':[data[data['Class'] == 'Distress Zone'].shape[0],\n",
    "                                   data[data['Class'] == 'Gray Zone'].shape[0],\n",
    "                                   data[data['Class'] == 'Safe Zone'].shape[0]]})\n",
    "\n",
    "# Implement the histogram as a bar plot.\n",
    "ax = plot_data.plot.bar(x='Classification', y='Count', rot=0)\n",
    "\n",
    "# Display the summarized plot data to see exact counts\n",
    "plot_data.head()"
   ]
  },
  {
   "cell_type": "markdown",
   "metadata": {},
   "source": [
    "### Share the Story\n",
    "\n",
    "We now have a bankruptcy prediction for every retail company with availability date for each firm-year combination.  Auditors can use this score to understand the financial risk facing their client.  Investors can use this score to under the financial risk they face if they invest in the firm.  Banks and lenders can also use this score to decide if the company will be around to pay the loan back when it is due.\n",
    "\n",
    "### Assessment\n",
    "\n",
    "Please answer the following questions.\n",
    "\n",
    "**Question 1:** How many firms have an Altman Z-score less than 1.8 and fall in the \"Distress Zone\"?\n",
    "\n",
    "*TODO:* Provide an answer based on your results\n",
    "\n",
    "**Question 2:** How many firms have an Altman Z-score greater than or equal to 1.8, but less than 3.0 and fall in the \"Gray Zone\"?\n",
    "\n",
    "*TODO:* Provide an answer based on your results\n",
    "\n",
    "\n",
    "**Question 3:** Based on the Altman Z's formulas, what is the general relationship between each of the five factors (or financial ratios) and the chance of going bankrupt?\n",
    "\n",
    "*TODO:* Provide an answer based on your results\n",
    "\n",
    "**Question 4:** With recent financial pressure from e-commerce firms like Amazon and bricks and mortar stores like Walmart, would you predict in more recent years that firms would go bankrupt more or less?\n",
    "\n",
    "*TODO:* Provide an answer based on your results and business knowledge\n",
    "\n",
    "**Question 5:** How many distinct companies and fiscal years are considered in this dataset? How many total rows are contained in the dataset?"
   ]
  },
  {
   "cell_type": "code",
   "execution_count": null,
   "metadata": {},
   "outputs": [],
   "source": [
    "print('Number of distinct companies represented', data['conm'].unique().shape[0])\n",
    "## TODO: Similar to above, print out the number distinct fiscal years represented in the data\n",
    "## TODO: Similar to above, print out the total number of rows in the dataset"
   ]
  },
  {
   "cell_type": "markdown",
   "metadata": {},
   "source": [
    "## Part 3: Analyzing a Different Dataset\n",
    "\n",
    "For this part you will use the above analyses as an example and undertake a similar analysis yourself. Specifically, you should accomplish the following:\n",
    "\n",
    "1. Compute the Altman’s five factors used to predict bankruptcy.\n",
    "2. Weight each of those factors using Altman’s bankruptcy prediction weights to arrive at Altman’s Z score.\n",
    "3. Classify each company as either in the \"Distress Zone\", \"Gray Zone\" or \"Safe Zone\" for Bankruptcy using Altman’s classifications through use of a histogram.\n",
    "\n",
    "Please perform this analysis using the data file entitled *Lab_8_1_Alt_Data.xlsx*.\n",
    "\n",
    "#### Step 1: Perform the Analysis and Display Key Results\n",
    "\n",
    "First, we read in the new data:"
   ]
  },
  {
   "cell_type": "code",
   "execution_count": null,
   "metadata": {},
   "outputs": [],
   "source": [
    "# Specify the excel file containing multiple worksheets (i.e. tables).\n",
    "## TODO: Create a varible called data_file and assign it the name of the new data XLSX data file\n",
    "\n",
    "# Create a variable for sales transactions containing the Sales_Transactions worksheet data.\n",
    "## TODO: Read in the data file as a data frame and assign it to a variable named data.\n",
    "##       ** Hint: Make sure to properly name the targt worksheet within the data file.\n",
    "\n",
    "# View the first few rows\n",
    "## TODO: Display the first few rows of the data"
   ]
  },
  {
   "cell_type": "markdown",
   "metadata": {},
   "source": [
    "Next, we add columns X1 through X5:"
   ]
  },
  {
   "cell_type": "code",
   "execution_count": null,
   "metadata": {},
   "outputs": [],
   "source": [
    "## TODO: Add columns containing X1 through X5 to the data and display the first few rows to confirm the result."
   ]
  },
  {
   "cell_type": "markdown",
   "metadata": {},
   "source": [
    "Now add a *Z* column containing Altman's Z for each row, followed by a *Class* column containing the respective bankruptcy classification."
   ]
  },
  {
   "cell_type": "code",
   "execution_count": null,
   "metadata": {},
   "outputs": [],
   "source": [
    "# Add the Z column\n",
    "## TODO: Add a new Z column containing the computed Z values\n",
    "\n",
    "# Put the decision rules into a small but separate function\n",
    "## TODO: construct a small function to implement Altman's Z decision rules\n",
    "\n",
    "# Add the Class column\n",
    "## TODO: Add a Class column which contains the each institution's classification based on the decision rules\n",
    "\n",
    "# View the updated data\n",
    "## TODO: View the first few rows to confirm the addition and correctness of these two columns"
   ]
  },
  {
   "cell_type": "markdown",
   "metadata": {},
   "source": [
    "Finally, construct a histogram to show the counts of each distinct bankruptcy classification."
   ]
  },
  {
   "cell_type": "code",
   "execution_count": null,
   "metadata": {},
   "outputs": [],
   "source": [
    "# Build a small data frame to hold counts of each class\n",
    "## TODO: Construct a three-row data frame called plot_data ontaining Classification and Count columns. The Classification  \n",
    "##       column should list the classes 'Distress Zone', 'Gray Zone', and 'Safe Zone', and the Count column should list the \n",
    "##       corresponding counts in the dataset\n",
    "## TODO: Construct plot_data\n",
    "\n",
    "# Implement the histogram as a bar plot.\n",
    "## TODO: Build a bar plot showing the differences in the counts for the plot_data data frame\n",
    "\n",
    "# Display the summarized plot data to see exact counts\n",
    "## TODO: Print out the plot_data data frame"
   ]
  },
  {
   "cell_type": "markdown",
   "metadata": {},
   "source": [
    "### Assessment\n",
    "\n",
    "Please answer the following questions.\n",
    "\n",
    "**Question 1:** How many firms have an Altman Z-score less than 1.8 and fall in the \"Distress Zone\"?\n",
    "\n",
    "*TODO:* Provide an answer based on your results\n",
    "\n",
    "**Question 2:** How many firms have an Altman Z-score greater than or equal to 1.8, but less than 3.0 and fall in the \"Gray Zone\"?\n",
    "\n",
    "*TODO:* Provide an answer based on your results\n",
    "\n",
    "**Question 3:** Based on the Altman Z's formulas, what is the general relationship between each of the five factors (or financial ratios) and the chance of going bankrupt?\n",
    "\n",
    "*TODO:* Provide an answer based on your results\n",
    "\n",
    "**Question 4:** For factor X4, what is the appropriate weight based on Altman's Z?\n",
    "\n",
    "*TODO:* Provide an answer based on your results\n",
    "\n",
    "**Question 5:** How many distinct companies and fiscal years are considered in this dataset? How many total rows are contained in the dataset?"
   ]
  },
  {
   "cell_type": "code",
   "execution_count": null,
   "metadata": {},
   "outputs": [],
   "source": [
    "## TODO: Print out the number of distinct companies represented, prefaced by identifying text.\n",
    "## TODO: Similar to above, print out the number distinct fiscal years represented in the data\n",
    "## TODO: Similar to above, print out the total number of rows in the dataset"
   ]
  },
  {
   "cell_type": "code",
   "execution_count": null,
   "metadata": {},
   "outputs": [],
   "source": []
  }
 ],
 "metadata": {
  "kernelspec": {
   "display_name": "Python 3",
   "language": "python",
   "name": "python3"
  },
  "language_info": {
   "codemirror_mode": {
    "name": "ipython",
    "version": 3
   },
   "file_extension": ".py",
   "mimetype": "text/x-python",
   "name": "python",
   "nbconvert_exporter": "python",
   "pygments_lexer": "ipython3",
   "version": "3.8.3"
  }
 },
 "nbformat": 4,
 "nbformat_minor": 4
}
