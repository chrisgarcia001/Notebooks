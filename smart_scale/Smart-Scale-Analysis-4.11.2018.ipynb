{
 "cells": [
  {
   "cell_type": "markdown",
   "metadata": {},
   "source": [
    "# A Statistical Analysis of the Virginia Smart Scale Scoring Methodology\n",
    "\n",
    "#### April 11, 2018\n",
    "\n",
    "#### Christopher Garcia, Ph.D., Mukesh Srivastava, Ph.D.\n",
    "#### University of Mary Washington, Center for Business Research\n",
    "\n",
    "## Executive Summary\n",
    "\n",
    "The Smart Scale methodology is intended to provide an objective, transparent, and consistent way to evaluate and compare the benefits of competing transportation projects in Virginia. This study provides a statistical analysis of a set of 404 projects scored using the Smart Scale methodology. The study's first goal was to provide a basic characterization of the Smart Scale score distribution across different project features, while the second goal was to answer the following two questions:\n",
    "\n",
    "1. Was the Smart Scale methodology applied consistently across all projects?\n",
    "\n",
    "2. If Accessibility (a key concern for the Fredericksburg area) was prioritized in Smart Scale score calculation for area types A and D (the area types where Fredericksburg projects occur), how would this impact the competitiveness of Fredericksburg-based projects?\n",
    "\n",
    "To answer the first question, the Smart Scale scores were independently calculated using the methodology prescribed in the November 2017 technical guide. These scores were then compared to the assigned project scores. In the overwhelming majority of projects the Smart Scale methodology was applied consistently and according to the technical guide specifications. In 39 of the 404 projects, however, there was a difference greater than 40% between assigned and calculated scores.\n",
    "\n",
    "To answer the second question, two alternative scenarios were used which both increased the importance of Accessibility in the  scoring calculation. All projects were scored according to the methodology defined in each scenario, and the percentile rankings of the Fredericksburg scores under each alternative scenario were compared to that obtained by the current methodology. There were small increases in percentile rankings of Fredericksburg project scores under the two alternative scenarios when compared to the current scoring methodology. This suggests that the full impact of Fredericksburg-based projects may be underestimated under the current Smart Scale methodology.\n",
    "\n",
    "\n",
    "## I. Introduction\n",
    "\n",
    "The Virginia Smart Scale methodology was finalized in November 2017 in order to provide an objective scoring system for the state's transportation projects competing for funding. The complete technical specification of the Smart Scale methodology can be found in the November 2017 technical guide, found here: [http://vasmartscale.org/documents/20171115/ss_technical_guide_nov13_2017.pdf](http://vasmartscale.org/documents/20171115/ss_technical_guide_nov13_2017.pdf).\n",
    "\n",
    "The purpose of this analysis is 1) to provide a descriptive statistical characterization of recently funded projects, 2) to independently assess whether the Smart Scale scores (abbreviated by SSS hereafter) assigned to these projects were consistent with the Smart Scale methodology as specified in the technical guide, and 3) to determine how increasing the emphasis on Accessibility (which is a major concern to the Fredericksburg area) in the SSS calculation methodology would impact the competitiveness of Fredericksburg-based projects. This analysis uses a dataset provided by the Fredericksburg Area Metropolitan Planning Organization (FAMPO), containing data on 404 projects. This analysis also uses the R statistical computing environment within a Jupyter notebook. This allows the analysis to be both explained as well as executed. It furthermore enables complete transparancy of the analytical methodology and code used in its execution. This removes any ambiguity and also guarantees reproducibility of the results.\n",
    "\n",
    "## II. Data Inspection and Preparation\n",
    "\n",
    "The data was provided in a Microsoft Excel spreadsheet. This spreadsheet was first converted to a CSV file (ss-data.csv) and then a number of transformation processes were applied to clean and scale the data as well as to impute missing values. To begin, we first import several libraries which will be used later on and also define several functions which will be used in the data preparation:"
   ]
  },
  {
   "cell_type": "code",
   "execution_count": 1,
   "metadata": {},
   "outputs": [],
   "source": [
    "# Turn off verbose output messages.\n",
    "options(warn=0)\n",
    "\n",
    "# Include all libraries that will be used in this notebook's code\n",
    "library(ggplot2)\n",
    "library(gridExtra)\n",
    "\n",
    "# Given a vector, a vector of original values, and a corresponding vector of \n",
    "# replacement values, apply the replacements and return the transformed vector.\n",
    "recode <- function(vec, from.vals, to.vals) {\n",
    "    f = function(v) {\n",
    "        for(i in 1:length(from.vals)) {\n",
    "            if(v == from.vals[i]) { return(to.vals[i]) }\n",
    "        }\n",
    "        return(v)\n",
    "    }\n",
    "    return(sapply(as.vector(vec), f))\n",
    "}\n",
    "\n",
    "# Function for imputing mean of a vector to its missing values.\n",
    "impute.mean <- function(vec) {\n",
    "    vec[is.na(vec)] = mean(vec, na.rm=TRUE)\n",
    "    vec\n",
    "}\n",
    "\n",
    "# Function for imputing value of 0 to each missing value in the vector.\n",
    "impute.0 <- function(vec) {\n",
    "    vec[is.na(vec)] = 0\n",
    "    vec\n",
    "}"
   ]
  },
  {
   "cell_type": "markdown",
   "metadata": {},
   "source": [
    "Next we read in the dataset and inspect the first few rows of data:"
   ]
  },
  {
   "cell_type": "code",
   "execution_count": 2,
   "metadata": {},
   "outputs": [
    {
     "data": {
      "text/html": [
       "<table>\n",
       "<thead><tr><th scope=col>App.Id</th><th scope=col>Area.Type</th><th scope=col>District</th><th scope=col>Organization.Name</th><th scope=col>Project.Title</th><th scope=col>Statewide.High.Priority</th><th scope=col>District.Grant</th><th scope=col>Throughput.Score</th><th scope=col>Delay.Score</th><th scope=col>Crash.Frequency.Score</th><th scope=col>...</th><th scope=col>Travel.Time.Reliability.Score</th><th scope=col>Land.Use.Score</th><th scope=col>Project.Benefit.Score</th><th scope=col>Total.Project</th><th scope=col>Score.Divided.by.Total.Cost</th><th scope=col>SMART.SCALE.Request</th><th scope=col>SMART.SCALE.Score</th><th scope=col>Benefit.Rank</th><th scope=col>State.Rank</th><th scope=col>District.Rank</th></tr></thead>\n",
       "<tbody>\n",
       "\t<tr><td>1414                                                        </td><td>A                                                           </td><td>NOVA                                                        </td><td>Northern Virginia Transportation Commission                 </td><td>VRE Fredericksburg Line Capacity Expansion                  </td><td>x                                                           </td><td>                                                            </td><td>17.69                                                       </td><td>87.66                                                       </td><td>100                                                         </td><td>...                                                         </td><td> -                                                          </td><td>64.016                                                      </td><td>64.236                                                      </td><td>216034920                                                   </td><td>2.973                                                       </td><td> 92636120                                                   </td><td>6.934                                                       </td><td>1                                                           </td><td>109                                                         </td><td>16                                                          </td></tr>\n",
       "\t<tr><td>1057                                                        </td><td>A                                                           </td><td>Hampton Roads                                               </td><td>Hampton Roads Transportation Planning Organization          </td><td>I-64 Southside Widening and High Rise Bridge - Phase 1      </td><td>x                                                           </td><td>                                                            </td><td>100                                                         </td><td>88.96                                                       </td><td>45.16                                                       </td><td>...                                                         </td><td>29.044                                                      </td><td>10.464                                                      </td><td>62.042                                                      </td><td>600000000                                                   </td><td>1.034                                                       </td><td>100000000                                                   </td><td>6.204                                                       </td><td>2                                                           </td><td>120                                                         </td><td>22                                                          </td></tr>\n",
       "\t<tr><td>1090                                                        </td><td>A                                                           </td><td>Hampton Roads                                               </td><td>Hampton Roads Transportation Planning Organization          </td><td>I-64/I-264 Interchange Improvements                         </td><td>x                                                           </td><td>                                                            </td><td>60.61                                                       </td><td>53.86                                                       </td><td> -                                                          </td><td>...                                                         </td><td>24.245                                                      </td><td>31.671                                                      </td><td>48.747                                                      </td><td>350091800                                                   </td><td>1.392                                                       </td><td> 50000000                                                   </td><td>9.749                                                       </td><td>3                                                           </td><td> 79                                                         </td><td>18                                                          </td></tr>\n",
       "\t<tr><td>1293                                                        </td><td>A                                                           </td><td>NOVA                                                        </td><td>Prince William County                                       </td><td>Route 234 At Balls Ford Intrchng and Rel/Widen Balls Ford Rd</td><td>x                                                           </td><td>x                                                           </td><td>65.48                                                       </td><td>100                                                         </td><td>15.61                                                       </td><td>...                                                         </td><td>1.05                                                        </td><td> -                                                          </td><td>41.289                                                      </td><td>126027000                                                   </td><td>3.276                                                       </td><td>124027000                                                   </td><td>3.329                                                       </td><td>4                                                           </td><td>170                                                         </td><td>30                                                          </td></tr>\n",
       "\t<tr><td>1249                                                        </td><td>A                                                           </td><td>NOVA                                                        </td><td>Fairfax County                                              </td><td>VA 286 - Popes Head Road Interchange                        </td><td>x                                                           </td><td>x                                                           </td><td>61.09                                                       </td><td>54.17                                                       </td><td>8.22                                                        </td><td>...                                                         </td><td>0.118                                                       </td><td> -                                                          </td><td>37.194                                                      </td><td> 64303070                                                   </td><td>5.784                                                       </td><td> 50558370                                                   </td><td>7.357                                                       </td><td>5                                                           </td><td>101                                                         </td><td>14                                                          </td></tr>\n",
       "\t<tr><td>1240                                                        </td><td>A                                                           </td><td>NOVA                                                        </td><td>Loudoun County                                              </td><td>Loudoun County Parkway (Shellhorn Road to US Route 50)      </td><td>x                                                           </td><td>x                                                           </td><td>45.27                                                       </td><td>69.78                                                       </td><td>5.43                                                        </td><td>...                                                         </td><td>1.6                                                         </td><td>16.364                                                      </td><td>33.732                                                      </td><td>112053000                                                   </td><td>3.01                                                        </td><td>112053000                                                   </td><td>3.01                                                        </td><td>6                                                           </td><td>179                                                         </td><td>32                                                          </td></tr>\n",
       "</tbody>\n",
       "</table>\n"
      ],
      "text/latex": [
       "\\begin{tabular}{r|llllllllllllllllllllllllllll}\n",
       " App.Id & Area.Type & District & Organization.Name & Project.Title & Statewide.High.Priority & District.Grant & Throughput.Score & Delay.Score & Crash.Frequency.Score & ... & Travel.Time.Reliability.Score & Land.Use.Score & Project.Benefit.Score & Total.Project & Score.Divided.by.Total.Cost & SMART.SCALE.Request & SMART.SCALE.Score & Benefit.Rank & State.Rank & District.Rank\\\\\n",
       "\\hline\n",
       "\t 1414                                                         & A                                                            & NOVA                                                         & Northern Virginia Transportation Commission                  & VRE Fredericksburg Line Capacity Expansion                   & x                                                            &                                                              & 17.69                                                        & 87.66                                                        & 100                                                          & ...                                                          &  -                                                           & 64.016                                                       & 64.236                                                       & 216034920                                                    & 2.973                                                        &  92636120                                                    & 6.934                                                        & 1                                                            & 109                                                          & 16                                                          \\\\\n",
       "\t 1057                                                         & A                                                            & Hampton Roads                                                & Hampton Roads Transportation Planning Organization           & I-64 Southside Widening and High Rise Bridge - Phase 1       & x                                                            &                                                              & 100                                                          & 88.96                                                        & 45.16                                                        & ...                                                          & 29.044                                                       & 10.464                                                       & 62.042                                                       & 600000000                                                    & 1.034                                                        & 100000000                                                    & 6.204                                                        & 2                                                            & 120                                                          & 22                                                          \\\\\n",
       "\t 1090                                                         & A                                                            & Hampton Roads                                                & Hampton Roads Transportation Planning Organization           & I-64/I-264 Interchange Improvements                          & x                                                            &                                                              & 60.61                                                        & 53.86                                                        &  -                                                           & ...                                                          & 24.245                                                       & 31.671                                                       & 48.747                                                       & 350091800                                                    & 1.392                                                        &  50000000                                                    & 9.749                                                        & 3                                                            &  79                                                          & 18                                                          \\\\\n",
       "\t 1293                                                         & A                                                            & NOVA                                                         & Prince William County                                        & Route 234 At Balls Ford Intrchng and Rel/Widen Balls Ford Rd & x                                                            & x                                                            & 65.48                                                        & 100                                                          & 15.61                                                        & ...                                                          & 1.05                                                         &  -                                                           & 41.289                                                       & 126027000                                                    & 3.276                                                        & 124027000                                                    & 3.329                                                        & 4                                                            & 170                                                          & 30                                                          \\\\\n",
       "\t 1249                                                         & A                                                            & NOVA                                                         & Fairfax County                                               & VA 286 - Popes Head Road Interchange                         & x                                                            & x                                                            & 61.09                                                        & 54.17                                                        & 8.22                                                         & ...                                                          & 0.118                                                        &  -                                                           & 37.194                                                       &  64303070                                                    & 5.784                                                        &  50558370                                                    & 7.357                                                        & 5                                                            & 101                                                          & 14                                                          \\\\\n",
       "\t 1240                                                         & A                                                            & NOVA                                                         & Loudoun County                                               & Loudoun County Parkway (Shellhorn Road to US Route 50)       & x                                                            & x                                                            & 45.27                                                        & 69.78                                                        & 5.43                                                         & ...                                                          & 1.6                                                          & 16.364                                                       & 33.732                                                       & 112053000                                                    & 3.01                                                         & 112053000                                                    & 3.01                                                         & 6                                                            & 179                                                          & 32                                                          \\\\\n",
       "\\end{tabular}\n"
      ],
      "text/markdown": [
       "\n",
       "App.Id | Area.Type | District | Organization.Name | Project.Title | Statewide.High.Priority | District.Grant | Throughput.Score | Delay.Score | Crash.Frequency.Score | ... | Travel.Time.Reliability.Score | Land.Use.Score | Project.Benefit.Score | Total.Project | Score.Divided.by.Total.Cost | SMART.SCALE.Request | SMART.SCALE.Score | Benefit.Rank | State.Rank | District.Rank | \n",
       "|---|---|---|---|---|---|\n",
       "| 1414                                                         | A                                                            | NOVA                                                         | Northern Virginia Transportation Commission                  | VRE Fredericksburg Line Capacity Expansion                   | x                                                            |                                                              | 17.69                                                        | 87.66                                                        | 100                                                          | ...                                                          |  -                                                           | 64.016                                                       | 64.236                                                       | 216034920                                                    | 2.973                                                        |  92636120                                                    | 6.934                                                        | 1                                                            | 109                                                          | 16                                                           | \n",
       "| 1057                                                         | A                                                            | Hampton Roads                                                | Hampton Roads Transportation Planning Organization           | I-64 Southside Widening and High Rise Bridge - Phase 1       | x                                                            |                                                              | 100                                                          | 88.96                                                        | 45.16                                                        | ...                                                          | 29.044                                                       | 10.464                                                       | 62.042                                                       | 600000000                                                    | 1.034                                                        | 100000000                                                    | 6.204                                                        | 2                                                            | 120                                                          | 22                                                           | \n",
       "| 1090                                                         | A                                                            | Hampton Roads                                                | Hampton Roads Transportation Planning Organization           | I-64/I-264 Interchange Improvements                          | x                                                            |                                                              | 60.61                                                        | 53.86                                                        |  -                                                           | ...                                                          | 24.245                                                       | 31.671                                                       | 48.747                                                       | 350091800                                                    | 1.392                                                        |  50000000                                                    | 9.749                                                        | 3                                                            |  79                                                          | 18                                                           | \n",
       "| 1293                                                         | A                                                            | NOVA                                                         | Prince William County                                        | Route 234 At Balls Ford Intrchng and Rel/Widen Balls Ford Rd | x                                                            | x                                                            | 65.48                                                        | 100                                                          | 15.61                                                        | ...                                                          | 1.05                                                         |  -                                                           | 41.289                                                       | 126027000                                                    | 3.276                                                        | 124027000                                                    | 3.329                                                        | 4                                                            | 170                                                          | 30                                                           | \n",
       "| 1249                                                         | A                                                            | NOVA                                                         | Fairfax County                                               | VA 286 - Popes Head Road Interchange                         | x                                                            | x                                                            | 61.09                                                        | 54.17                                                        | 8.22                                                         | ...                                                          | 0.118                                                        |  -                                                           | 37.194                                                       |  64303070                                                    | 5.784                                                        |  50558370                                                    | 7.357                                                        | 5                                                            | 101                                                          | 14                                                           | \n",
       "| 1240                                                         | A                                                            | NOVA                                                         | Loudoun County                                               | Loudoun County Parkway (Shellhorn Road to US Route 50)       | x                                                            | x                                                            | 45.27                                                        | 69.78                                                        | 5.43                                                         | ...                                                          | 1.6                                                          | 16.364                                                       | 33.732                                                       | 112053000                                                    | 3.01                                                         | 112053000                                                    | 3.01                                                         | 6                                                            | 179                                                          | 32                                                           | \n",
       "\n",
       "\n"
      ],
      "text/plain": [
       "  App.Id Area.Type District     \n",
       "1 1414   A         NOVA         \n",
       "2 1057   A         Hampton Roads\n",
       "3 1090   A         Hampton Roads\n",
       "4 1293   A         NOVA         \n",
       "5 1249   A         NOVA         \n",
       "6 1240   A         NOVA         \n",
       "  Organization.Name                                 \n",
       "1 Northern Virginia Transportation Commission       \n",
       "2 Hampton Roads Transportation Planning Organization\n",
       "3 Hampton Roads Transportation Planning Organization\n",
       "4 Prince William County                             \n",
       "5 Fairfax County                                    \n",
       "6 Loudoun County                                    \n",
       "  Project.Title                                               \n",
       "1 VRE Fredericksburg Line Capacity Expansion                  \n",
       "2 I-64 Southside Widening and High Rise Bridge - Phase 1      \n",
       "3 I-64/I-264 Interchange Improvements                         \n",
       "4 Route 234 At Balls Ford Intrchng and Rel/Widen Balls Ford Rd\n",
       "5 VA 286 - Popes Head Road Interchange                        \n",
       "6 Loudoun County Parkway (Shellhorn Road to US Route 50)      \n",
       "  Statewide.High.Priority District.Grant Throughput.Score Delay.Score\n",
       "1 x                                      17.69            87.66      \n",
       "2 x                                      100              88.96      \n",
       "3 x                                      60.61            53.86      \n",
       "4 x                       x              65.48            100        \n",
       "5 x                       x              61.09            54.17      \n",
       "6 x                       x              45.27            69.78      \n",
       "  Crash.Frequency.Score ... Travel.Time.Reliability.Score Land.Use.Score\n",
       "1 100                   ...  -                            64.016        \n",
       "2 45.16                 ... 29.044                        10.464        \n",
       "3  -                    ... 24.245                        31.671        \n",
       "4 15.61                 ... 1.05                           -            \n",
       "5 8.22                  ... 0.118                          -            \n",
       "6 5.43                  ... 1.6                           16.364        \n",
       "  Project.Benefit.Score Total.Project Score.Divided.by.Total.Cost\n",
       "1 64.236                216034920     2.973                      \n",
       "2 62.042                600000000     1.034                      \n",
       "3 48.747                350091800     1.392                      \n",
       "4 41.289                126027000     3.276                      \n",
       "5 37.194                 64303070     5.784                      \n",
       "6 33.732                112053000     3.01                       \n",
       "  SMART.SCALE.Request SMART.SCALE.Score Benefit.Rank State.Rank District.Rank\n",
       "1  92636120           6.934             1            109        16           \n",
       "2 100000000           6.204             2            120        22           \n",
       "3  50000000           9.749             3             79        18           \n",
       "4 124027000           3.329             4            170        30           \n",
       "5  50558370           7.357             5            101        14           \n",
       "6 112053000           3.01              6            179        32           "
      ]
     },
     "metadata": {},
     "output_type": "display_data"
    }
   ],
   "source": [
    "data <- read.csv('ss-data.csv')\n",
    "head(data)"
   ]
  },
  {
   "cell_type": "markdown",
   "metadata": {},
   "source": [
    "In the technical guide (Table 4.2, p. 36) there are six major factors used to compute the Smart Scale score, which are themselves calculated from more basic measurements:\n",
    "\n",
    "1. Congestion Mitigation\n",
    "2. Economic Development\n",
    "3. Accessibility\n",
    "4. Safety\n",
    "5. Environmental Quality\n",
    "6. Land Use\n",
    "\n",
    "Of these six factors only Land Use is directly given in the dataset. All other major metrics are calculated from their basic constituent measurements as specified on pages 27-31. Within the data there are four area types: A, B, C, and D. Each of these area types has a unique factor weighting used in calculating in its Smart Scale Score. These weightings are specified for each area in Table 4.2 on page 36 within the technical guide. It is noted that for areas C and D, the Land Use factor is not used (or equivalently, carries 0% weight). Upon inspection of the whole dataset it was apparent that this was represented by empty cells for projects falling within these area types. Accordingly, all such Land Use values are set to 0. By this precedent it also is taken that all empty cells in numeric columns correspond to zero. Accordingly, a value of zero is imputed to all empty cells.\n",
    "\n",
    "Based upon this, the following basic transformations are made to the data prior to analysis:\n",
    "\n",
    "* All columns with present/absent markers (x and no x) are recoded to 1 and 0, respectively. This converts them into a numeric equivalent (called binarization).\n",
    "\n",
    "* All empty cells in basic constituent measurement columns (which are used in calculating the factors) and other numeric values are changed to zero.\n",
    "\n",
    "* All empty cells in the Land Use column are changed to zero.\n",
    "\n",
    "Additionally, prior to imputing zeros to empty cells we inspect the percentages of empty cells in the numeric colums. All this is done as follows:"
   ]
  },
  {
   "cell_type": "code",
   "execution_count": 3,
   "metadata": {},
   "outputs": [
    {
     "data": {
      "text/html": [
       "<table>\n",
       "<thead><tr><th scope=col>Column_Name</th><th scope=col>Percent_Missing_Values</th></tr></thead>\n",
       "<tbody>\n",
       "\t<tr><td>Throughput.Score             </td><td>30.94                        </td></tr>\n",
       "\t<tr><td>Delay.Score                  </td><td>25.99                        </td></tr>\n",
       "\t<tr><td>Crash.Frequency.Score        </td><td>17.08                        </td></tr>\n",
       "\t<tr><td>Crash.Rate.Score             </td><td>19.80                        </td></tr>\n",
       "\t<tr><td>Access.to.Jobs               </td><td>33.91                        </td></tr>\n",
       "\t<tr><td>Disadvantaged.Access.to.Jobs </td><td>33.91                        </td></tr>\n",
       "\t<tr><td>Multimodal.Access.Score      </td><td>41.34                        </td></tr>\n",
       "\t<tr><td>Air.Quality.Score            </td><td>34.16                        </td></tr>\n",
       "\t<tr><td>Enviro.Impact.Score          </td><td> 0.99                        </td></tr>\n",
       "\t<tr><td>Econ.Dev.Support.Score       </td><td>37.87                        </td></tr>\n",
       "\t<tr><td>Intermodal.Access.Score      </td><td>60.15                        </td></tr>\n",
       "\t<tr><td>Travel.Time.Reliability.Score</td><td>31.19                        </td></tr>\n",
       "\t<tr><td>Land.Use.Score               </td><td>56.44                        </td></tr>\n",
       "\t<tr><td>Project.Benefit.Score        </td><td> 0.74                        </td></tr>\n",
       "\t<tr><td>Total.Project                </td><td> 0.00                        </td></tr>\n",
       "\t<tr><td>Score.Divided.by.Total.Cost  </td><td> 0.74                        </td></tr>\n",
       "\t<tr><td>SMART.SCALE.Request          </td><td> 0.00                        </td></tr>\n",
       "\t<tr><td>SMART.SCALE.Score            </td><td> 0.74                        </td></tr>\n",
       "\t<tr><td>Benefit.Rank                 </td><td> 0.00                        </td></tr>\n",
       "\t<tr><td>State.Rank                   </td><td> 0.00                        </td></tr>\n",
       "\t<tr><td>District.Rank                </td><td> 0.00                        </td></tr>\n",
       "</tbody>\n",
       "</table>\n"
      ],
      "text/latex": [
       "\\begin{tabular}{r|ll}\n",
       " Column\\_Name & Percent\\_Missing\\_Values\\\\\n",
       "\\hline\n",
       "\t Throughput.Score              & 30.94                        \\\\\n",
       "\t Delay.Score                   & 25.99                        \\\\\n",
       "\t Crash.Frequency.Score         & 17.08                        \\\\\n",
       "\t Crash.Rate.Score              & 19.80                        \\\\\n",
       "\t Access.to.Jobs                & 33.91                        \\\\\n",
       "\t Disadvantaged.Access.to.Jobs  & 33.91                        \\\\\n",
       "\t Multimodal.Access.Score       & 41.34                        \\\\\n",
       "\t Air.Quality.Score             & 34.16                        \\\\\n",
       "\t Enviro.Impact.Score           &  0.99                        \\\\\n",
       "\t Econ.Dev.Support.Score        & 37.87                        \\\\\n",
       "\t Intermodal.Access.Score       & 60.15                        \\\\\n",
       "\t Travel.Time.Reliability.Score & 31.19                        \\\\\n",
       "\t Land.Use.Score                & 56.44                        \\\\\n",
       "\t Project.Benefit.Score         &  0.74                        \\\\\n",
       "\t Total.Project                 &  0.00                        \\\\\n",
       "\t Score.Divided.by.Total.Cost   &  0.74                        \\\\\n",
       "\t SMART.SCALE.Request           &  0.00                        \\\\\n",
       "\t SMART.SCALE.Score             &  0.74                        \\\\\n",
       "\t Benefit.Rank                  &  0.00                        \\\\\n",
       "\t State.Rank                    &  0.00                        \\\\\n",
       "\t District.Rank                 &  0.00                        \\\\\n",
       "\\end{tabular}\n"
      ],
      "text/markdown": [
       "\n",
       "Column_Name | Percent_Missing_Values | \n",
       "|---|---|---|---|---|---|---|---|---|---|---|---|---|---|---|---|---|---|---|---|---|\n",
       "| Throughput.Score              | 30.94                         | \n",
       "| Delay.Score                   | 25.99                         | \n",
       "| Crash.Frequency.Score         | 17.08                         | \n",
       "| Crash.Rate.Score              | 19.80                         | \n",
       "| Access.to.Jobs                | 33.91                         | \n",
       "| Disadvantaged.Access.to.Jobs  | 33.91                         | \n",
       "| Multimodal.Access.Score       | 41.34                         | \n",
       "| Air.Quality.Score             | 34.16                         | \n",
       "| Enviro.Impact.Score           |  0.99                         | \n",
       "| Econ.Dev.Support.Score        | 37.87                         | \n",
       "| Intermodal.Access.Score       | 60.15                         | \n",
       "| Travel.Time.Reliability.Score | 31.19                         | \n",
       "| Land.Use.Score                | 56.44                         | \n",
       "| Project.Benefit.Score         |  0.74                         | \n",
       "| Total.Project                 |  0.00                         | \n",
       "| Score.Divided.by.Total.Cost   |  0.74                         | \n",
       "| SMART.SCALE.Request           |  0.00                         | \n",
       "| SMART.SCALE.Score             |  0.74                         | \n",
       "| Benefit.Rank                  |  0.00                         | \n",
       "| State.Rank                    |  0.00                         | \n",
       "| District.Rank                 |  0.00                         | \n",
       "\n",
       "\n"
      ],
      "text/plain": [
       "   Column_Name                   Percent_Missing_Values\n",
       "1  Throughput.Score              30.94                 \n",
       "2  Delay.Score                   25.99                 \n",
       "3  Crash.Frequency.Score         17.08                 \n",
       "4  Crash.Rate.Score              19.80                 \n",
       "5  Access.to.Jobs                33.91                 \n",
       "6  Disadvantaged.Access.to.Jobs  33.91                 \n",
       "7  Multimodal.Access.Score       41.34                 \n",
       "8  Air.Quality.Score             34.16                 \n",
       "9  Enviro.Impact.Score            0.99                 \n",
       "10 Econ.Dev.Support.Score        37.87                 \n",
       "11 Intermodal.Access.Score       60.15                 \n",
       "12 Travel.Time.Reliability.Score 31.19                 \n",
       "13 Land.Use.Score                56.44                 \n",
       "14 Project.Benefit.Score          0.74                 \n",
       "15 Total.Project                  0.00                 \n",
       "16 Score.Divided.by.Total.Cost    0.74                 \n",
       "17 SMART.SCALE.Request            0.00                 \n",
       "18 SMART.SCALE.Score              0.74                 \n",
       "19 Benefit.Rank                   0.00                 \n",
       "20 State.Rank                     0.00                 \n",
       "21 District.Rank                  0.00                 "
      ]
     },
     "metadata": {},
     "output_type": "display_data"
    }
   ],
   "source": [
    "# Clean and recode numeric columns.\n",
    "numeric.columns <- colnames(data)[8:ncol(data)]\n",
    "for(col in numeric.columns) {\n",
    "    data[[col]] <- suppressWarnings(as.numeric(as.character(data[[col]]))) \n",
    "}\n",
    "\n",
    "imputer.f <- impute.0 # Missing value imputation function - can change if needed\n",
    "\n",
    "# Impute missing values to component scores and print out the percent missing in each column\n",
    "missing.ind <- 1\n",
    "missing.perc <- c()\n",
    "missing.titles <- c()\n",
    "for(i in 8:ncol(data)) {\n",
    "    missing.titles[missing.ind] <- colnames(data)[i]\n",
    "    missing.perc[missing.ind] <- round(100*(1 - (length(sort(data[[i]]))/nrow(data))), 2) \n",
    "    data[[i]] <- imputer.f(data[[i]])\n",
    "    missing.ind <- missing.ind + 1\n",
    "}\n",
    "\n",
    "# Properly binarize binary columns.\n",
    "data$Statewide.High.Priority <- as.numeric(sapply(data$Statewide.High.Priority, function(x){if(x == 'x') return(1); return(0);}))\n",
    "data$District.Grant <- as.numeric(sapply(data$District.Grant, function(x){if(x == 'x') return(1); return(0);}))\n",
    "\n",
    "# Display summary of missing values\n",
    "data.frame(Column_Name=missing.titles, Percent_Missing_Values=missing.perc)"
   ]
  },
  {
   "cell_type": "markdown",
   "metadata": {},
   "source": [
    "In the output above, the percentage of missing values in the key numeric columns ranges from 0% to 74%. We note that 74% of rows are missing a SMART.SCALE.Score and Project.Benefit.Score, meaning that only 26% of the projects have a Project Benefit Score and Smart Scale Score assigned - which is interpreted as only 26% of the projects having a Project Benefit Score and Smart Scale Score greater than zero."
   ]
  },
  {
   "cell_type": "markdown",
   "metadata": {},
   "source": [
    "\n",
    "## III. Data Exploration\n",
    "\n",
    "In this section we explore the data further using descriptive statistics to provide several characterizations. We begin by looking at the overall distribution of Smart Scale Scores (SSS) ordered from least to greatest:\n"
   ]
  },
  {
   "cell_type": "code",
   "execution_count": 4,
   "metadata": {},
   "outputs": [
    {
     "data": {},
     "metadata": {},
     "output_type": "display_data"
    },
    {
     "data": {
      "image/png": "[encoded data removed]",
      "text/plain": [
       "plot without title"
      ]
     },
     "metadata": {},
     "output_type": "display_data"
    }
   ],
   "source": [
    "sssr <- data[order(data$SMART.SCALE.Score),]\n",
    "sssr <- cbind(sssr, data.frame(ind=1:nrow(data)))\n",
    "ggplot(sssr, aes(x=ind, y=SMART.SCALE.Score, shape=Area.Type, color=Area.Type)) +\n",
    "    geom_point() +\n",
    "    labs(x='Rank', y='Smart Scale Score', \n",
    "         title='Fig. 1: Smart Scale Scores (Ordered)')"
   ]
  },
  {
   "cell_type": "markdown",
   "metadata": {},
   "source": [
    "In Fig. 1 above, the SSS's appear to follow a power law, with a long tail on the left and a relatively small number of projects having extreme scores. The distribution of scores clearly does not follow a linear pattern. Below we inspect the percentile thresholds from this sample by SSS:"
   ]
  },
  {
   "cell_type": "code",
   "execution_count": 5,
   "metadata": {},
   "outputs": [
    {
     "data": {
      "text/html": [
       "<table>\n",
       "<thead><tr><th scope=col>Percentile</th><th scope=col>Score</th></tr></thead>\n",
       "<tbody>\n",
       "\t<tr><td> 5    </td><td> 0.149</td></tr>\n",
       "\t<tr><td>10    </td><td> 0.283</td></tr>\n",
       "\t<tr><td>25    </td><td> 0.737</td></tr>\n",
       "\t<tr><td>50    </td><td> 2.301</td></tr>\n",
       "\t<tr><td>75    </td><td> 7.347</td></tr>\n",
       "\t<tr><td>90    </td><td>25.141</td></tr>\n",
       "\t<tr><td>95    </td><td>44.623</td></tr>\n",
       "</tbody>\n",
       "</table>\n"
      ],
      "text/latex": [
       "\\begin{tabular}{r|ll}\n",
       " Percentile & Score\\\\\n",
       "\\hline\n",
       "\t  5     &  0.149\\\\\n",
       "\t 10     &  0.283\\\\\n",
       "\t 25     &  0.737\\\\\n",
       "\t 50     &  2.301\\\\\n",
       "\t 75     &  7.347\\\\\n",
       "\t 90     & 25.141\\\\\n",
       "\t 95     & 44.623\\\\\n",
       "\\end{tabular}\n"
      ],
      "text/markdown": [
       "\n",
       "Percentile | Score | \n",
       "|---|---|---|---|---|---|---|\n",
       "|  5     |  0.149 | \n",
       "| 10     |  0.283 | \n",
       "| 25     |  0.737 | \n",
       "| 50     |  2.301 | \n",
       "| 75     |  7.347 | \n",
       "| 90     | 25.141 | \n",
       "| 95     | 44.623 | \n",
       "\n",
       "\n"
      ],
      "text/plain": [
       "  Percentile Score \n",
       "1  5          0.149\n",
       "2 10          0.283\n",
       "3 25          0.737\n",
       "4 50          2.301\n",
       "5 75          7.347\n",
       "6 90         25.141\n",
       "7 95         44.623"
      ]
     },
     "metadata": {},
     "output_type": "display_data"
    }
   ],
   "source": [
    "sss.ord <- sort(data$SMART.SCALE.Score)\n",
    "percentiles <- c(0.05, 0.1, 0.25, 0.5, 0.75, 0.9, 0.95)\n",
    "cut.scores <- sapply(percentiles, function(p){sss.ord[ceiling(p * nrow(data))]})\n",
    "percentile.cutoffs <- data.frame(Percentile=100 * percentiles, Score=cut.scores)\n",
    "percentile.cutoffs"
   ]
  },
  {
   "cell_type": "markdown",
   "metadata": {},
   "source": [
    "Because only a small number of projects exceed a SSS of 30, we will truncate all subsequent exploratory visualizations at 30 to best enable the majority variation to be seen clearly.\n",
    "\n",
    "### 3.1 Descriptive Statistics for Majority (Lower-Scoring) Projects (SSS < 30)\n",
    "\n",
    "To drill down further, we look at the distribution of Smart Scale Scores by area type and district. We begin with area type, looking at the number of projects within each of the four area types together with their average and median smart scale scores:"
   ]
  },
  {
   "cell_type": "code",
   "execution_count": 6,
   "metadata": {},
   "outputs": [
    {
     "data": {
      "text/html": [
       "<table>\n",
       "<thead><tr><th scope=col>Area</th><th scope=col>Num_Projects</th><th scope=col>Mean_Smart_Scale_Score</th><th scope=col>Median_Smart_Scale_Score</th></tr></thead>\n",
       "<tbody>\n",
       "\t<tr><td>A        </td><td>114      </td><td>16.287246</td><td>2.9795   </td></tr>\n",
       "\t<tr><td>B        </td><td> 88      </td><td> 8.776795</td><td>4.3685   </td></tr>\n",
       "\t<tr><td>C        </td><td> 86      </td><td> 6.257140</td><td>1.9760   </td></tr>\n",
       "\t<tr><td>D        </td><td>116      </td><td> 7.978250</td><td>1.4635   </td></tr>\n",
       "</tbody>\n",
       "</table>\n"
      ],
      "text/latex": [
       "\\begin{tabular}{r|llll}\n",
       " Area & Num\\_Projects & Mean\\_Smart\\_Scale\\_Score & Median\\_Smart\\_Scale\\_Score\\\\\n",
       "\\hline\n",
       "\t A         & 114       & 16.287246 & 2.9795   \\\\\n",
       "\t B         &  88       &  8.776795 & 4.3685   \\\\\n",
       "\t C         &  86       &  6.257140 & 1.9760   \\\\\n",
       "\t D         & 116       &  7.978250 & 1.4635   \\\\\n",
       "\\end{tabular}\n"
      ],
      "text/markdown": [
       "\n",
       "Area | Num_Projects | Mean_Smart_Scale_Score | Median_Smart_Scale_Score | \n",
       "|---|---|---|---|\n",
       "| A         | 114       | 16.287246 | 2.9795    | \n",
       "| B         |  88       |  8.776795 | 4.3685    | \n",
       "| C         |  86       |  6.257140 | 1.9760    | \n",
       "| D         | 116       |  7.978250 | 1.4635    | \n",
       "\n",
       "\n"
      ],
      "text/plain": [
       "  Area Num_Projects Mean_Smart_Scale_Score Median_Smart_Scale_Score\n",
       "1 A    114          16.287246              2.9795                  \n",
       "2 B     88           8.776795              4.3685                  \n",
       "3 C     86           6.257140              1.9760                  \n",
       "4 D    116           7.978250              1.4635                  "
      ]
     },
     "metadata": {},
     "output_type": "display_data"
    }
   ],
   "source": [
    "dt1 <- data.frame(table(data$Area.Type))\n",
    "m1 <- data.frame(aggregate(data$SMART.SCALE.Score ~ data$Area.Type, FUN=mean))\n",
    "mm1 <- data.frame(aggregate(data$SMART.SCALE.Score ~ data$Area.Type, FUN=median))\n",
    "dt1 <- cbind(dt1, m1$data.SMART.SCALE.Score, mm1$data.SMART.SCALE.Score)\n",
    "colnames(dt1) <- c('Area', 'Num_Projects', 'Mean_Smart_Scale_Score', 'Median_Smart_Scale_Score')\n",
    "dt1"
   ]
  },
  {
   "cell_type": "markdown",
   "metadata": {},
   "source": [
    "By comparing the mean SSS to the medians, it is apparant that the few high-scoring projects significantly inflate the means. Below we look more closely at the spread of the SSS by area type (truncated at 30, as discussed above):"
   ]
  },
  {
   "cell_type": "code",
   "execution_count": 7,
   "metadata": {},
   "outputs": [
    {
     "data": {
      "image/png": "[encoded data removed]",
      "text/plain": [
       "Plot with title \"Fig. 2: Smart Scale Score Distribution by Area Type\""
      ]
     },
     "metadata": {},
     "output_type": "display_data"
    }
   ],
   "source": [
    "boxplot(SMART.SCALE.Score~Area.Type,data=data, main=\"Fig. 2: Smart Scale Score Distribution by Area Type\",\n",
    "        xlab=\"Area Type\", ylab=\"Smart Scale Score\", ylim=c(0, 30), col=\"yellow\") "
   ]
  },
  {
   "cell_type": "markdown",
   "metadata": {},
   "source": [
    "In Fig. 2 above, area type A has the greatest amount of variance while area type D has the least. Area types C and D have similar distribution profiles, with area type D having the lowest overall median.\n",
    "\n",
    "Below we shift our perspective to look at SSS with respect to district. We begin with a basic summarization of scores by district:"
   ]
  },
  {
   "cell_type": "code",
   "execution_count": 8,
   "metadata": {},
   "outputs": [
    {
     "data": {
      "text/html": [
       "<table>\n",
       "<thead><tr><th scope=col>District</th><th scope=col>Num_Projects</th><th scope=col>Mean_Smart_Scale_Score</th><th scope=col>Median_Smart_Scale_Score</th></tr></thead>\n",
       "<tbody>\n",
       "\t<tr><td>Bristol       </td><td>42            </td><td> 1.160738     </td><td>0.4695        </td></tr>\n",
       "\t<tr><td>Culpeper      </td><td>35            </td><td> 3.597029     </td><td>2.1690        </td></tr>\n",
       "\t<tr><td>Fredericksburg</td><td>25            </td><td> 8.902320     </td><td>1.8640        </td></tr>\n",
       "\t<tr><td>Hampton Roads </td><td>52            </td><td>23.536212     </td><td>2.0735        </td></tr>\n",
       "\t<tr><td>Lynchburg     </td><td>28            </td><td> 9.429893     </td><td>1.7990        </td></tr>\n",
       "\t<tr><td>NOVA          </td><td>58            </td><td>11.844241     </td><td>3.3630        </td></tr>\n",
       "\t<tr><td>Richmond      </td><td>72            </td><td> 7.878069     </td><td>3.2880        </td></tr>\n",
       "\t<tr><td>Salem         </td><td>50            </td><td>10.277980     </td><td>2.5410        </td></tr>\n",
       "\t<tr><td>Staunton      </td><td>42            </td><td>10.463905     </td><td>2.7075        </td></tr>\n",
       "</tbody>\n",
       "</table>\n"
      ],
      "text/latex": [
       "\\begin{tabular}{r|llll}\n",
       " District & Num\\_Projects & Mean\\_Smart\\_Scale\\_Score & Median\\_Smart\\_Scale\\_Score\\\\\n",
       "\\hline\n",
       "\t Bristol        & 42             &  1.160738      & 0.4695        \\\\\n",
       "\t Culpeper       & 35             &  3.597029      & 2.1690        \\\\\n",
       "\t Fredericksburg & 25             &  8.902320      & 1.8640        \\\\\n",
       "\t Hampton Roads  & 52             & 23.536212      & 2.0735        \\\\\n",
       "\t Lynchburg      & 28             &  9.429893      & 1.7990        \\\\\n",
       "\t NOVA           & 58             & 11.844241      & 3.3630        \\\\\n",
       "\t Richmond       & 72             &  7.878069      & 3.2880        \\\\\n",
       "\t Salem          & 50             & 10.277980      & 2.5410        \\\\\n",
       "\t Staunton       & 42             & 10.463905      & 2.7075        \\\\\n",
       "\\end{tabular}\n"
      ],
      "text/markdown": [
       "\n",
       "District | Num_Projects | Mean_Smart_Scale_Score | Median_Smart_Scale_Score | \n",
       "|---|---|---|---|---|---|---|---|---|\n",
       "| Bristol        | 42             |  1.160738      | 0.4695         | \n",
       "| Culpeper       | 35             |  3.597029      | 2.1690         | \n",
       "| Fredericksburg | 25             |  8.902320      | 1.8640         | \n",
       "| Hampton Roads  | 52             | 23.536212      | 2.0735         | \n",
       "| Lynchburg      | 28             |  9.429893      | 1.7990         | \n",
       "| NOVA           | 58             | 11.844241      | 3.3630         | \n",
       "| Richmond       | 72             |  7.878069      | 3.2880         | \n",
       "| Salem          | 50             | 10.277980      | 2.5410         | \n",
       "| Staunton       | 42             | 10.463905      | 2.7075         | \n",
       "\n",
       "\n"
      ],
      "text/plain": [
       "  District       Num_Projects Mean_Smart_Scale_Score Median_Smart_Scale_Score\n",
       "1 Bristol        42            1.160738              0.4695                  \n",
       "2 Culpeper       35            3.597029              2.1690                  \n",
       "3 Fredericksburg 25            8.902320              1.8640                  \n",
       "4 Hampton Roads  52           23.536212              2.0735                  \n",
       "5 Lynchburg      28            9.429893              1.7990                  \n",
       "6 NOVA           58           11.844241              3.3630                  \n",
       "7 Richmond       72            7.878069              3.2880                  \n",
       "8 Salem          50           10.277980              2.5410                  \n",
       "9 Staunton       42           10.463905              2.7075                  "
      ]
     },
     "metadata": {},
     "output_type": "display_data"
    }
   ],
   "source": [
    "dt2 <- data.frame(table(data$District))\n",
    "m2 <- data.frame(aggregate(data$SMART.SCALE.Score ~ data$District, FUN=mean))\n",
    "mm2 <- data.frame(aggregate(data$SMART.SCALE.Score ~ data$District, FUN=median))\n",
    "dt2 <- cbind(dt2, m2$data.SMART.SCALE.Score, mm2$data.SMART.SCALE.Score)\n",
    "colnames(dt2) <- c('District', 'Num_Projects', 'Mean_Smart_Scale_Score', 'Median_Smart_Scale_Score')\n",
    "dt2"
   ]
  },
  {
   "cell_type": "markdown",
   "metadata": {},
   "source": [
    "In a manner similar to above, we see the extreme high-scoring projects inflating the means. In Fig. 3 below the distribution of scores by district is shown."
   ]
  },
  {
   "cell_type": "code",
   "execution_count": 9,
   "metadata": {},
   "outputs": [
    {
     "data": {
      "image/png": "[encoded data removed]",
      "text/plain": [
       "Plot with title \"Fig. 3: Smart Scale Score Distribution by District\""
      ]
     },
     "metadata": {},
     "output_type": "display_data"
    }
   ],
   "source": [
    "boxplot(SMART.SCALE.Score~District,data=data, main=\"Fig. 3: Smart Scale Score Distribution by District\",\n",
    "        xlab=\"District\", ylab=\"Smart Scale Score\", ylim=c(0, 30), col=\"yellow\", cex.axis=0.4) "
   ]
  },
  {
   "cell_type": "markdown",
   "metadata": {},
   "source": [
    "In Fig. 3 the Hampton Roads district has significantly more variance than all other districts, while NOVA and Richmond have the highest medians scores.\n",
    "\n",
    "### 3.2 Descriptive Statistics for Minority High-Scoring Projects (SSS > 30)\n",
    "\n",
    "Up to now the exploration has been focused on the majority of projects which tend toward the lower range of SSS. We turn our attention to the scores falling on the far right of Fig. 1 ranging from 30 and above. We first tabulate the number of projects falling in this range by area type:"
   ]
  },
  {
   "cell_type": "code",
   "execution_count": 10,
   "metadata": {},
   "outputs": [
    {
     "data": {
      "text/html": [
       "<table>\n",
       "<thead><tr><th scope=col>Area</th><th scope=col>Num_Projects</th><th scope=col>Mean_Smart_Scale_Score</th><th scope=col>Median_Smart_Scale_Score</th></tr></thead>\n",
       "<tbody>\n",
       "\t<tr><td>A        </td><td>13       </td><td>105.97615</td><td>61.1800  </td></tr>\n",
       "\t<tr><td>B        </td><td> 4       </td><td> 58.23500</td><td>47.1480  </td></tr>\n",
       "\t<tr><td>C        </td><td> 6       </td><td> 47.45583</td><td>41.3365  </td></tr>\n",
       "\t<tr><td>D        </td><td>10       </td><td> 59.80840</td><td>62.2070  </td></tr>\n",
       "</tbody>\n",
       "</table>\n"
      ],
      "text/latex": [
       "\\begin{tabular}{r|llll}\n",
       " Area & Num\\_Projects & Mean\\_Smart\\_Scale\\_Score & Median\\_Smart\\_Scale\\_Score\\\\\n",
       "\\hline\n",
       "\t A         & 13        & 105.97615 & 61.1800  \\\\\n",
       "\t B         &  4        &  58.23500 & 47.1480  \\\\\n",
       "\t C         &  6        &  47.45583 & 41.3365  \\\\\n",
       "\t D         & 10        &  59.80840 & 62.2070  \\\\\n",
       "\\end{tabular}\n"
      ],
      "text/markdown": [
       "\n",
       "Area | Num_Projects | Mean_Smart_Scale_Score | Median_Smart_Scale_Score | \n",
       "|---|---|---|---|\n",
       "| A         | 13        | 105.97615 | 61.1800   | \n",
       "| B         |  4        |  58.23500 | 47.1480   | \n",
       "| C         |  6        |  47.45583 | 41.3365   | \n",
       "| D         | 10        |  59.80840 | 62.2070   | \n",
       "\n",
       "\n"
      ],
      "text/plain": [
       "  Area Num_Projects Mean_Smart_Scale_Score Median_Smart_Scale_Score\n",
       "1 A    13           105.97615              61.1800                 \n",
       "2 B     4            58.23500              47.1480                 \n",
       "3 C     6            47.45583              41.3365                 \n",
       "4 D    10            59.80840              62.2070                 "
      ]
     },
     "metadata": {},
     "output_type": "display_data"
    }
   ],
   "source": [
    "high.ss <- subset(data, SMART.SCALE.Score >= 30)\n",
    "dt3 <- data.frame(table(high.ss$Area.Type))\n",
    "m3 <- data.frame(aggregate(high.ss$SMART.SCALE.Score ~ high.ss$Area.Type, FUN=mean))\n",
    "mm3 <- data.frame(aggregate(high.ss$SMART.SCALE.Score ~ high.ss$Area.Type, FUN=median))\n",
    "dt3 <- cbind(dt3, m3$high.ss.SMART.SCALE.Score, mm3$high.ss.SMART.SCALE.Score)\n",
    "colnames(dt3) <- c('Area', 'Num_Projects', 'Mean_Smart_Scale_Score', 'Median_Smart_Scale_Score')\n",
    "dt3"
   ]
  },
  {
   "cell_type": "markdown",
   "metadata": {},
   "source": [
    "We see above that area types A and D have the majority of these high-scoring projects. A similar breakdown by district is shown below."
   ]
  },
  {
   "cell_type": "code",
   "execution_count": 11,
   "metadata": {},
   "outputs": [
    {
     "data": {
      "text/html": [
       "<table>\n",
       "<thead><tr><th scope=col>District</th><th scope=col>Num_Projects</th><th scope=col>Mean_Smart_Scale_Score</th><th scope=col>Median_Smart_Scale_Score</th></tr></thead>\n",
       "<tbody>\n",
       "\t<tr><td>Bristol       </td><td> 0            </td><td>       NA     </td><td>     NA       </td></tr>\n",
       "\t<tr><td>Culpeper      </td><td> 0            </td><td>       NA     </td><td>     NA       </td></tr>\n",
       "\t<tr><td>Fredericksburg</td><td> 2            </td><td> 57.72750     </td><td>57.7275       </td></tr>\n",
       "\t<tr><td>Hampton Roads </td><td>11            </td><td> 95.42873     </td><td>59.8350       </td></tr>\n",
       "\t<tr><td>Lynchburg     </td><td> 3            </td><td> 67.47600     </td><td>79.6260       </td></tr>\n",
       "\t<tr><td>NOVA          </td><td> 4            </td><td>108.68375     </td><td>86.2600       </td></tr>\n",
       "\t<tr><td>Richmond      </td><td> 4            </td><td> 50.86100     </td><td>40.4150       </td></tr>\n",
       "\t<tr><td>Salem         </td><td> 4            </td><td> 58.85550     </td><td>48.1505       </td></tr>\n",
       "\t<tr><td>Staunton      </td><td> 5            </td><td> 50.44980     </td><td>42.0710       </td></tr>\n",
       "</tbody>\n",
       "</table>\n"
      ],
      "text/latex": [
       "\\begin{tabular}{r|llll}\n",
       " District & Num\\_Projects & Mean\\_Smart\\_Scale\\_Score & Median\\_Smart\\_Scale\\_Score\\\\\n",
       "\\hline\n",
       "\t Bristol        &  0             &        NA      &      NA       \\\\\n",
       "\t Culpeper       &  0             &        NA      &      NA       \\\\\n",
       "\t Fredericksburg &  2             &  57.72750      & 57.7275       \\\\\n",
       "\t Hampton Roads  & 11             &  95.42873      & 59.8350       \\\\\n",
       "\t Lynchburg      &  3             &  67.47600      & 79.6260       \\\\\n",
       "\t NOVA           &  4             & 108.68375      & 86.2600       \\\\\n",
       "\t Richmond       &  4             &  50.86100      & 40.4150       \\\\\n",
       "\t Salem          &  4             &  58.85550      & 48.1505       \\\\\n",
       "\t Staunton       &  5             &  50.44980      & 42.0710       \\\\\n",
       "\\end{tabular}\n"
      ],
      "text/markdown": [
       "\n",
       "District | Num_Projects | Mean_Smart_Scale_Score | Median_Smart_Scale_Score | \n",
       "|---|---|---|---|---|---|---|---|---|\n",
       "| Bristol        |  0             |        NA      |      NA        | \n",
       "| Culpeper       |  0             |        NA      |      NA        | \n",
       "| Fredericksburg |  2             |  57.72750      | 57.7275        | \n",
       "| Hampton Roads  | 11             |  95.42873      | 59.8350        | \n",
       "| Lynchburg      |  3             |  67.47600      | 79.6260        | \n",
       "| NOVA           |  4             | 108.68375      | 86.2600        | \n",
       "| Richmond       |  4             |  50.86100      | 40.4150        | \n",
       "| Salem          |  4             |  58.85550      | 48.1505        | \n",
       "| Staunton       |  5             |  50.44980      | 42.0710        | \n",
       "\n",
       "\n"
      ],
      "text/plain": [
       "  District       Num_Projects Mean_Smart_Scale_Score Median_Smart_Scale_Score\n",
       "1 Bristol         0                  NA                   NA                 \n",
       "2 Culpeper        0                  NA                   NA                 \n",
       "3 Fredericksburg  2            57.72750              57.7275                 \n",
       "4 Hampton Roads  11            95.42873              59.8350                 \n",
       "5 Lynchburg       3            67.47600              79.6260                 \n",
       "6 NOVA            4           108.68375              86.2600                 \n",
       "7 Richmond        4            50.86100              40.4150                 \n",
       "8 Salem           4            58.85550              48.1505                 \n",
       "9 Staunton        5            50.44980              42.0710                 "
      ]
     },
     "metadata": {},
     "output_type": "display_data"
    }
   ],
   "source": [
    "dt4 <- data.frame(District=unique(data$District))\n",
    "dt4 <- merge(dt4, data.frame(table(high.ss$District)), by.x='District', by.y='Var1', all.x=TRUE)\n",
    "m4 <- data.frame(aggregate(high.ss$SMART.SCALE.Score ~ high.ss$District, FUN=mean))\n",
    "dt4 <- merge(dt4, m4, by.x='District', by.y='high.ss.District', all.x=TRUE)\n",
    "mm4 <- data.frame(aggregate(high.ss$SMART.SCALE.Score ~ high.ss$District, FUN=median))\n",
    "dt4 <- merge(dt4, mm4, by.x='District', by.y='high.ss.District', all.x=TRUE)\n",
    "colnames(dt4) <- c('District', 'Num_Projects', 'Mean_Smart_Scale_Score', 'Median_Smart_Scale_Score')\n",
    "dt4"
   ]
  },
  {
   "cell_type": "markdown",
   "metadata": {},
   "source": [
    "Because there are so few projects at this score range, we will omit further drill-down to look at actual score distributions.\n",
    "\n",
    "## IV. Examination of Scoring Consistency\n",
    "\n",
    "An important aspect of this analysis is to see if the scoring methodology as specified in the technical guide was applied consistently to the projects. As previously discussed, in the technical guide (Table 4.2, p. 36) there are six major factors used to compute the Smart Scale score which are themselves calculated from more basic measurements:\n",
    "\n",
    "* Congestion Mitigation\n",
    "* Economic Development\n",
    "* Accessibility\n",
    "* Safety\n",
    "* Environmental Quality\n",
    "* Land Use\n",
    "\n",
    "Of these six factors only Land Use is directly given in the dataset. All other major metrics are calculated from their basic constituent measurements as specified on pages 27-31. Within the data there are four area types: A, B, C, and D. Each of these area types has a unique factor weighting that results in its Smart Scale Score. These weightings are specified for each area in Table 4.2 on page 36 within the technical guide. It is noted that for areas C and D, the Land Use factor is not used (or equivalently, carries 0% weight).\n",
    "\n",
    "The examination of scoring consistency will be accomplished by independently calculating the SSS score of each project according to the specifications in the technical guide. These independently-calculated scores will then be compared to the scores provided in the dataset by fitting a linear regression, and the degree of fit will be used to determine the degree of consistency.\n",
    "\n",
    "### 4.1 Comparing Assigned Smart Scale Scores to Scores Calculated According to the Technical Guide\n",
    "\n",
    "Pages 37-40 of the technical guide specify how to calculate the final smart scale score, and in this section we implement these calculations in an attempt to replicate the assigned Smart Scale Scores. In the dataset all basic measurements needed for each factor weight calculation are present except for those pertaining to the Land Use factor. Instead, a Land Use factor score is provided. All steps in the calculation process are summarized in Table 4.6 on p. 40 of the technical guide.\n",
    "\n",
    "#### 4.1.1 Replicating the Technical Guide Calculations on the Data\n",
    "\n",
    "The Smart Scale Score calculations specified technical guide are replicated on the dataset below:"
   ]
  },
  {
   "cell_type": "code",
   "execution_count": 12,
   "metadata": {},
   "outputs": [],
   "source": [
    "#------ Step 1: Normalization of Measure Weights\n",
    "measure.cols <- c('Throughput.Score', 'Delay.Score',\n",
    "                  'Econ.Dev.Support.Score', 'Intermodal.Access.Score', 'Travel.Time.Reliability.Score',\n",
    "                  'Access.to.Jobs', 'Disadvantaged.Access.to.Jobs', 'Multimodal.Access.Score',\n",
    "                  'Crash.Frequency.Score', 'Crash.Rate.Score',\n",
    "                  'Air.Quality.Score', 'Enviro.Impact.Score')\n",
    "for(i in measure.cols) {data[[i]] <- 100 * data[[i]] / max(data[[i]])}\n",
    "\n",
    "#------ Step 2: Apply Measure Weights\n",
    "# For a given data frame, a set of weights, and a set of selected columns, this function returns a new\n",
    "# vector corresponding to the weighted averages of the columns.\n",
    "weighted.column.average <- function(data.frame, weight.vec, selected.columns) {\n",
    "  v <- 0 \n",
    "  for(i in 1:length(weight.vec)) {\n",
    "    v <- v + (weight.vec[i] * data.frame[[selected.columns[i]]])\n",
    "  }\n",
    "  v\n",
    "}\n",
    "\n",
    "# Calculate the composite factor scores (except Land Use, which is already given in the data) from \n",
    "# component scores according to the Smart Scale November 2017 technical guide, p. 40.\n",
    "data$Congestion.Score <- weighted.column.average(data, c(0.5, 0.5), c('Throughput.Score', 'Delay.Score'))\n",
    "data$Economic.Score <- weighted.column.average(data, c(0.6, 0.2, 0.2), \n",
    "                                               c('Econ.Dev.Support.Score', 'Intermodal.Access.Score', \n",
    "                                                 'Travel.Time.Reliability.Score'))\n",
    "data$Accessibility.Score <- weighted.column.average(data, c(0.6, 0.2, 0.2), \n",
    "                                                    c('Access.to.Jobs', 'Disadvantaged.Access.to.Jobs', \n",
    "                                                      'Multimodal.Access.Score'))\n",
    "data$Safety.Score <- weighted.column.average(data, c(0.5, 0.5), c('Crash.Frequency.Score', 'Crash.Rate.Score'))\n",
    "data$Environmental.Score <- weighted.column.average(data, c(0.5, 0.5), c('Air.Quality.Score', 'Enviro.Impact.Score'))\n",
    "# Land use score already in data - no component scores listed.\n",
    "\n",
    "#------ Step 3: Apply Factor Weights\n",
    "# Given a dataframe with calculated factor scores, this function computes the project value according to \n",
    "# Table 4.2, p.36 of the technical guide.\n",
    "calc.proj.value <- function(dataset, weight.a=c(0.45, 0.5, 0.15, 0.5, 0.1, 0.2),\n",
    "                                     weight.b=c(0.15, 0.2, 0.25, 0.2, 0.1, 0.1),\n",
    "                                     weight.c=c(0.15, 0.25, 0.25, 0.25, 0.1),\n",
    "                                     weight.d=c(0.10, 0.35, 0.15, 0.3, 0.1)) {\n",
    "  factor.cols.ab <- c('Congestion.Score', 'Economic.Score', 'Accessibility.Score', 'Safety.Score',\n",
    "                      'Environmental.Score', 'Land.Use.Score')\n",
    "  factor.cols.cd <- c('Congestion.Score', 'Economic.Score', 'Accessibility.Score', 'Safety.Score',\n",
    "                      'Environmental.Score')\n",
    "  sa <- weighted.column.average(dataset, weight.a, factor.cols.ab)\n",
    "  sb <- weighted.column.average(dataset, weight.b, factor.cols.ab)\n",
    "  sc <- weighted.column.average(dataset, weight.c, factor.cols.cd)\n",
    "  sd <- weighted.column.average(dataset, weight.d, factor.cols.cd)\n",
    "  scores <- c()\n",
    "  for(i in 1:nrow(dataset)) {\n",
    "    if(dataset[i, 'Area.Type'] == 'A') {scores[i] <- sa[i]}\n",
    "    else if(dataset[i, 'Area.Type'] == 'B') {scores[i] <- sb[i]}\n",
    "    else if(dataset[i, 'Area.Type'] == 'C') {scores[i] <- sc[i]}\n",
    "    else {scores[i] <- sd[i]}\n",
    "  }\n",
    "  scores\n",
    "}\n",
    "\n",
    "# Add a new column to data with our calculated project benefit scores.\n",
    "data['Calc.Project.Benefit.Score'] <- calc.proj.value(data)\n",
    "\n",
    "#------ Step 4: Apply Factor Weights  \n",
    "data['Calc.SMART.SCALE.Score'] <- 1e7 * data[['Calc.Project.Benefit.Score']] / data[['SMART.SCALE.Request']] \n"
   ]
  },
  {
   "cell_type": "markdown",
   "metadata": {},
   "source": [
    "#### 4.1.2 Comparing the Calculated versus Assigned Smart Scale Scores\n",
    "\n",
    "In order to assess the whether the calculation methodology as specified in the technical guide was applied consistently across the projects, we will use a linear regression model that fits the assigned SSS to the calculated SSS. If the two scores are perfectly consistent across the projects then they will fall perfectly along the line of best fit. Since the factor weightings differ across area type, we assess the fit for each of the four area types below."
   ]
  },
  {
   "cell_type": "code",
   "execution_count": 13,
   "metadata": {},
   "outputs": [
    {
     "data": {
      "image/png": "[encoded data removed]",
      "text/plain": [
       "plot without title"
      ]
     },
     "metadata": {},
     "output_type": "display_data"
    }
   ],
   "source": [
    "# Given a dataset this function builds a scatterplot with the linear regression trend line.\n",
    "ss.scatter.plot <- function(dataset, title='Calculated vs. Assigned Smart Scale Scores', title.size=22) {\n",
    "  ggplot(data=dataset,\n",
    "         aes(x=Calc.SMART.SCALE.Score, y=SMART.SCALE.Score)) +\n",
    "    geom_point() + \n",
    "    geom_smooth(method=lm) +\n",
    "    labs(x='Calculated Smart Scale Score', y='Assigned Smart Scale Score', \n",
    "         title=title) +\n",
    "    theme(plot.title = element_text(size=title.size))\n",
    "}\n",
    "\n",
    "# Build the linear models for each area type.\n",
    "a.lm <- lm(SMART.SCALE.Score ~ Calc.SMART.SCALE.Score, data=subset(data, Area.Type == 'A'))\n",
    "b.lm <- lm(SMART.SCALE.Score ~ Calc.SMART.SCALE.Score, data=subset(data, Area.Type == 'B'))\n",
    "c.lm <- lm(SMART.SCALE.Score ~ Calc.SMART.SCALE.Score, data=subset(data, Area.Type == 'C'))\n",
    "d.lm <- lm(SMART.SCALE.Score ~ Calc.SMART.SCALE.Score, data=subset(data, Area.Type == 'D'))\n",
    "\n",
    "# Build plots for each of the four area types.\n",
    "sp.a <- ss.scatter.plot(subset(data, Area.Type == 'A'), \n",
    "                        paste('Fig. 4A: Area Type A (R-Squared = ', round(summary(a.lm)$r.squared, 3), ')', sep=''), 11)\n",
    "sp.b <- ss.scatter.plot(subset(data, Area.Type == 'B'), \n",
    "                        paste('Fig. 4B: Area Type B (R-Squared = ', round(summary(b.lm)$r.squared, 3), ')', sep=''), 11)\n",
    "sp.c <- ss.scatter.plot(subset(data, Area.Type == 'C'), \n",
    "                        paste('Fig. 4C: Area Type C (R-Squared = ', round(summary(c.lm)$r.squared, 3), ')', sep=''), 11)\n",
    "sp.d <- ss.scatter.plot(subset(data, Area.Type == 'D'), \n",
    "                        paste('Fig. 4D: Area Type D (R-Squared = ', round(summary(d.lm)$r.squared, 3), ')', sep=''), 11)\n",
    "\n",
    "# Display the four plots within a single grid.\n",
    "grid.arrange(sp.a, sp.b, sp.c, sp.d, nrow=2) "
   ]
  },
  {
   "cell_type": "markdown",
   "metadata": {},
   "source": [
    "The R-squared values are nearly 1.0 for all area types except for A (and even this R-squared value was very high, coming in at 0.89), indicating a virtually perfect correspondance between calculated and assigned scores for area types B, C, and D. It is thus readily apparant from these visualizations that the Smart Scale methodology was applied consistently, with a notable exception for a small set of projects within the A area type. We look below at the specific projects which had a >40% difference in assigned versus calculated SSS.\n",
    "\n",
    "#### 4.1.3 Projects with Large Calculated-Assigned Smart Scale Score Differences\n",
    "\n",
    "We list those projects below having differences of at least 40% between their calculated and assigned SSS. We further filter out projects whose calculated SSS is below 1."
   ]
  },
  {
   "cell_type": "code",
   "execution_count": 14,
   "metadata": {},
   "outputs": [
    {
     "data": {
      "text/html": [
       "<table>\n",
       "<thead><tr><th scope=col>App.Id</th><th scope=col>Area.Type</th><th scope=col>District</th><th scope=col>Organization.Name</th><th scope=col>Project.Title</th><th scope=col>Calc.SMART.SCALE.Score</th><th scope=col>SMART.SCALE.Score</th><th scope=col>SMART.SCALE.Diff.Percent</th></tr></thead>\n",
       "<tbody>\n",
       "\t<tr><td>1414                                                        </td><td>A                                                           </td><td>NOVA                                                        </td><td>Northern Virginia Transportation Commission                 </td><td>VRE Fredericksburg Line Capacity Expansion                  </td><td> 12.422545                                                  </td><td> 6.934                                                      </td><td>44.18                                                       </td></tr>\n",
       "\t<tr><td>1141                                                        </td><td>A                                                           </td><td>Fredericksburg                                              </td><td>Spotsylvania County                                         </td><td>Lafayette Blvd and Harrison Road                            </td><td> 69.982690                                                  </td><td>33.516                                                      </td><td>52.11                                                       </td></tr>\n",
       "\t<tr><td>1216                                                        </td><td>A                                                           </td><td>NOVA                                                        </td><td>Loudoun County                                              </td><td>Prentice Drive Extension (Shellhorn Road to Lockridge Road) </td><td>  6.224782                                                  </td><td> 3.397                                                      </td><td>45.43                                                       </td></tr>\n",
       "\t<tr><td>1299                                                        </td><td>A                                                           </td><td>NOVA                                                        </td><td>Prince William County                                       </td><td>Route 1/Jeff Davis Widening from Cardinal/Neabsco to Rte 234</td><td>  1.422909                                                  </td><td> 0.737                                                      </td><td>48.20                                                       </td></tr>\n",
       "\t<tr><td>1115                                                        </td><td>A                                                           </td><td>NOVA                                                        </td><td>Fairfax County                                              </td><td>Richmond Highway Widening (Mt Vernon Hwy to Napper Rd)      </td><td>  3.210573                                                  </td><td> 1.479                                                      </td><td>53.93                                                       </td></tr>\n",
       "\t<tr><td>1453                                                        </td><td>A                                                           </td><td>Hampton Roads                                               </td><td>James City County                                           </td><td>Skiffes Creek Connector                                     </td><td>157.569800                                                  </td><td>78.768                                                      </td><td>50.01                                                       </td></tr>\n",
       "\t<tr><td>1126                                                        </td><td>A                                                           </td><td>NOVA                                                        </td><td>Loudoun County                                              </td><td>Evergreen Mills Road (Northstar Blvd to Loudoun County Pkwy)</td><td>  6.699072                                                  </td><td> 2.906                                                      </td><td>56.62                                                       </td></tr>\n",
       "\t<tr><td>1497                                                        </td><td>A                                                           </td><td>Hampton Roads                                               </td><td>Norfolk City                                                </td><td>Hampton Boulevard and Terminal Boulevard Grade Separation   </td><td>  1.283302                                                  </td><td> 0.578                                                      </td><td>54.96                                                       </td></tr>\n",
       "\t<tr><td>1138                                                        </td><td>A                                                           </td><td>Fredericksburg                                              </td><td>Spotsylvania County                                         </td><td>Route 208 and Breckenridge Drive Intersection Improvements  </td><td>146.055573                                                  </td><td>15.659                                                      </td><td>89.28                                                       </td></tr>\n",
       "\t<tr><td>1296                                                        </td><td>A                                                           </td><td>NOVA                                                        </td><td>Prince William County                                       </td><td>Route 234 Bypass at Dumfries/PWP/Brentsville Rd Interchange </td><td>  1.620574                                                  </td><td> 0.801                                                      </td><td>50.57                                                       </td></tr>\n",
       "\t<tr><td>1218                                                        </td><td>A                                                           </td><td>NOVA                                                        </td><td>Loudoun County                                              </td><td>Route 7/ Route 690 Interchange                              </td><td> 12.486759                                                  </td><td> 7.256                                                      </td><td>41.89                                                       </td></tr>\n",
       "\t<tr><td>1298                                                                                                    </td><td>A                                                                                                       </td><td><span style=white-space:pre-wrap>NOVA          </span>                                                  </td><td><span style=white-space:pre-wrap>Prince William County                      </span>                     </td><td><span style=white-space:pre-wrap>Route 1 &amp; 123 Interchange                                   </span></td><td><span style=white-space:pre-wrap>  2.193862</span>                                                      </td><td> 0.944                                                                                                  </td><td>56.97                                                                                                   </td></tr>\n",
       "\t<tr><td>1440                                                        </td><td>A                                                           </td><td>Hampton Roads                                               </td><td>Norfolk City                                                </td><td>Granby Street Bike Lanes                                    </td><td>207.416667                                                  </td><td>76.723                                                      </td><td>63.01                                                       </td></tr>\n",
       "\t<tr><td>1244                                                        </td><td>A                                                           </td><td>NOVA                                                        </td><td>Loudoun County                                              </td><td>Acquisition of Transit Buses                                </td><td> 14.990444                                                  </td><td> 8.174                                                      </td><td>45.47                                                       </td></tr>\n",
       "\t<tr><td>1089                                                        </td><td>A                                                           </td><td>Hampton Roads                                               </td><td>Poquoson City                                               </td><td>Route 171 Widening - 2016                                   </td><td>  1.711018                                                  </td><td> 0.998                                                      </td><td>41.67                                                       </td></tr>\n",
       "\t<tr><td>1046                                                        </td><td>A                                                           </td><td>NOVA                                                        </td><td>Fairfax City                                                </td><td>George Snyder Trail                                         </td><td>  8.536892                                                  </td><td> 3.804                                                      </td><td>55.44                                                       </td></tr>\n",
       "\t<tr><td>1213                                                        </td><td>A                                                           </td><td>NOVA                                                        </td><td>Loudoun County                                              </td><td>Pacific Boulevard (Route 28 to Old Ox Road)                 </td><td> 11.252912                                                  </td><td> 3.298                                                      </td><td>70.69                                                       </td></tr>\n",
       "\t<tr><td>1104                                                        </td><td>A                                                           </td><td>Fredericksburg                                              </td><td>George Washington Regional Commission                       </td><td>107714: Improve Brooke and Leeland VRE Sta, Const PS VRE Sta</td><td> 31.560471                                                  </td><td>14.948                                                      </td><td>52.64                                                       </td></tr>\n",
       "\t<tr><td>1223                                                        </td><td>A                                                           </td><td>NOVA                                                        </td><td>Loudoun County                                              </td><td>Route 9/Route 287 Roundabout                                </td><td>  6.281966                                                  </td><td> 2.816                                                      </td><td>55.17                                                       </td></tr>\n",
       "\t<tr><td>1231                                                        </td><td>A                                                           </td><td>Hampton Roads                                               </td><td>York County                                                 </td><td>Route 171 Widening between Route 600 and Poquoson city line </td><td>  2.185352                                                  </td><td> 1.013                                                      </td><td>53.65                                                       </td></tr>\n",
       "\t<tr><td>1187                                                        </td><td>A                                                           </td><td>Hampton Roads                                               </td><td>Chesapeake City                                             </td><td>George Washington Highway Widening                          </td><td>  3.248182                                                  </td><td> 0.947                                                      </td><td>70.85                                                       </td></tr>\n",
       "\t<tr><td>1442                                                        </td><td>A                                                           </td><td>Hampton Roads                                               </td><td>Poquoson City                                               </td><td>Route 171 (Victory Boulevard) Widening:  Poquoson Segment   </td><td>  1.943857                                                  </td><td> 1.050                                                      </td><td>45.98                                                       </td></tr>\n",
       "\t<tr><td>1186                                                                                                    </td><td>A                                                                                                       </td><td><span style=white-space:pre-wrap>NOVA          </span>                                                  </td><td><span style=white-space:pre-wrap>Vienna Town                                </span>                     </td><td><span style=white-space:pre-wrap>Route 123 &amp; 243 Traffic Signal Upgrades                     </span></td><td> 34.636209                                                                                              </td><td>20.013                                                                                                  </td><td>42.22                                                                                                   </td></tr>\n",
       "\t<tr><td>1362                                                        </td><td>A                                                           </td><td>Hampton Roads                                               </td><td>Williamsburg City                                           </td><td>Capitol Landing Road at Bypass Road Intersection            </td><td> 19.941952                                                  </td><td> 7.418                                                      </td><td>62.80                                                       </td></tr>\n",
       "\t<tr><td>1207                                                        </td><td>A                                                           </td><td>NOVA                                                        </td><td>Loudoun County                                              </td><td>Lockridge Road (Old Ox Rd to Prentice Dr)                   </td><td>  3.298784                                                  </td><td> 0.626                                                      </td><td>81.02                                                       </td></tr>\n",
       "\t<tr><td>1361                                                        </td><td>A                                                           </td><td>Hampton Roads                                               </td><td>Williamsburg City                                           </td><td>Ironbound Road Phase 3                                      </td><td>  9.514823                                                  </td><td> 4.584                                                      </td><td>51.82                                                       </td></tr>\n",
       "\t<tr><td>1173                                                                                                    </td><td>A                                                                                                       </td><td>Hampton Roads                                                                                           </td><td>Williamsburg Area Transit Authority (WATA)                                                              </td><td><span style=white-space:pre-wrap>Bus Expansion &amp; Three Expansion Bus Shelters                </span></td><td>119.118536                                                                                              </td><td>43.283                                                                                                  </td><td>63.66                                                                                                   </td></tr>\n",
       "\t<tr><td>1295                                                        </td><td>A                                                           </td><td>NOVA                                                        </td><td>Prince William County                                       </td><td>Neabsco Mills Road Widening                                 </td><td>  1.833931                                                  </td><td> 1.080                                                      </td><td>41.11                                                       </td></tr>\n",
       "\t<tr><td>1217                                                        </td><td>A                                                           </td><td>Hampton Roads                                               </td><td>York County                                                 </td><td>Route 171 Widening between Route 134 and Big Bethel Road    </td><td>  1.562926                                                  </td><td> 0.626                                                      </td><td>59.95                                                       </td></tr>\n",
       "\t<tr><td>1166                                                        </td><td>A                                                           </td><td>Hampton Roads                                               </td><td>Chesapeake City                                             </td><td>Elbow Road Phase II Roadway Improvements                    </td><td>  2.075127                                                  </td><td> 0.455                                                      </td><td>78.07                                                       </td></tr>\n",
       "\t<tr><td>1035                                                        </td><td>A                                                           </td><td>Hampton Roads                                               </td><td>Newport News City                                           </td><td>Jefferson Avenue Widening Kings Ridge to Industrial Park    </td><td>  1.888772                                                  </td><td> 0.339                                                      </td><td>82.05                                                       </td></tr>\n",
       "\t<tr><td>1194                                                        </td><td>A                                                           </td><td>Fredericksburg                                              </td><td>Stafford County                                             </td><td>3.\tStafford - Butler Road Widening                          </td><td>  3.177603                                                  </td><td> 1.195                                                      </td><td>62.39                                                       </td></tr>\n",
       "\t<tr><td>1144                                                        </td><td>A                                                           </td><td>Fredericksburg                                              </td><td>Spotsylvania County                                         </td><td>Widening of Smith Station Road at Courthouse Road           </td><td>  2.932744                                                  </td><td> 1.010                                                      </td><td>65.56                                                       </td></tr>\n",
       "\t<tr><td>1238                                                        </td><td>A                                                           </td><td>NOVA                                                        </td><td>Loudoun County                                              </td><td>Historic Hillsboro’s Main Street: Gateway to Rural Loudoun  </td><td>  1.933910                                                  </td><td> 0.650                                                      </td><td>66.39                                                       </td></tr>\n",
       "\t<tr><td>1631                                                                               </td><td>A                                                                                  </td><td><span style=white-space:pre-wrap>NOVA          </span>                             </td><td><span style=white-space:pre-wrap>Loudoun County                             </span></td><td>Hillsboro's Historic Main Street—Traffic Calming &amp; Sidewalks                   </td><td><span style=white-space:pre-wrap>  1.521434</span>                                 </td><td> 0.807                                                                             </td><td>46.96                                                                              </td></tr>\n",
       "\t<tr><td>1192                                                        </td><td>A                                                           </td><td>Fredericksburg                                              </td><td>Stafford County                                             </td><td>2.\tStafford - Rt.1/Eskimo Hill Rd/American Legion Rd INT IMP</td><td>  1.269231                                                  </td><td> 0.733                                                      </td><td>42.25                                                       </td></tr>\n",
       "\t<tr><td>1246                                                        </td><td>A                                                           </td><td>Hampton Roads                                               </td><td>Suffolk City                                                </td><td>Route 17 - Crittenden Road Intersection Realignment         </td><td>  1.651531                                                  </td><td> 0.750                                                      </td><td>54.59                                                       </td></tr>\n",
       "\t<tr><td>1148                                                        </td><td>A                                                           </td><td>Fredericksburg                                              </td><td>Spotsylvania County                                         </td><td>Bridge over I95 and Widening of Harrison Rd - Salem Chuch Rd</td><td>  1.329319                                                  </td><td> 0.356                                                      </td><td>73.22                                                       </td></tr>\n",
       "\t<tr><td>1672                                                        </td><td>A                                                           </td><td>Hampton Roads                                               </td><td>Isle of Wight County                                        </td><td>Nike Park Road at Titus Creek Drive Intersection Improvement</td><td>  4.079539                                                  </td><td> 0.475                                                      </td><td>88.36                                                       </td></tr>\n",
       "</tbody>\n",
       "</table>\n"
      ],
      "text/latex": [
       "\\begin{tabular}{r|llllllll}\n",
       " App.Id & Area.Type & District & Organization.Name & Project.Title & Calc.SMART.SCALE.Score & SMART.SCALE.Score & SMART.SCALE.Diff.Percent\\\\\n",
       "\\hline\n",
       "\t 1414                                                         & A                                                            & NOVA                                                         & Northern Virginia Transportation Commission                  & VRE Fredericksburg Line Capacity Expansion                   &  12.422545                                                   &  6.934                                                       & 44.18                                                       \\\\\n",
       "\t 1141                                                         & A                                                            & Fredericksburg                                               & Spotsylvania County                                          & Lafayette Blvd and Harrison Road                             &  69.982690                                                   & 33.516                                                       & 52.11                                                       \\\\\n",
       "\t 1216                                                         & A                                                            & NOVA                                                         & Loudoun County                                               & Prentice Drive Extension (Shellhorn Road to Lockridge Road)  &   6.224782                                                   &  3.397                                                       & 45.43                                                       \\\\\n",
       "\t 1299                                                         & A                                                            & NOVA                                                         & Prince William County                                        & Route 1/Jeff Davis Widening from Cardinal/Neabsco to Rte 234 &   1.422909                                                   &  0.737                                                       & 48.20                                                       \\\\\n",
       "\t 1115                                                         & A                                                            & NOVA                                                         & Fairfax County                                               & Richmond Highway Widening (Mt Vernon Hwy to Napper Rd)       &   3.210573                                                   &  1.479                                                       & 53.93                                                       \\\\\n",
       "\t 1453                                                         & A                                                            & Hampton Roads                                                & James City County                                            & Skiffes Creek Connector                                      & 157.569800                                                   & 78.768                                                       & 50.01                                                       \\\\\n",
       "\t 1126                                                         & A                                                            & NOVA                                                         & Loudoun County                                               & Evergreen Mills Road (Northstar Blvd to Loudoun County Pkwy) &   6.699072                                                   &  2.906                                                       & 56.62                                                       \\\\\n",
       "\t 1497                                                         & A                                                            & Hampton Roads                                                & Norfolk City                                                 & Hampton Boulevard and Terminal Boulevard Grade Separation    &   1.283302                                                   &  0.578                                                       & 54.96                                                       \\\\\n",
       "\t 1138                                                         & A                                                            & Fredericksburg                                               & Spotsylvania County                                          & Route 208 and Breckenridge Drive Intersection Improvements   & 146.055573                                                   & 15.659                                                       & 89.28                                                       \\\\\n",
       "\t 1296                                                         & A                                                            & NOVA                                                         & Prince William County                                        & Route 234 Bypass at Dumfries/PWP/Brentsville Rd Interchange  &   1.620574                                                   &  0.801                                                       & 50.57                                                       \\\\\n",
       "\t 1218                                                         & A                                                            & NOVA                                                         & Loudoun County                                               & Route 7/ Route 690 Interchange                               &  12.486759                                                   &  7.256                                                       & 41.89                                                       \\\\\n",
       "\t 1298                                                           & A                                                              & NOVA                                                           & Prince William County                                          & Route 1 \\& 123 Interchange                                    &   2.193862                                                     &  0.944                                                         & 56.97                                                         \\\\\n",
       "\t 1440                                                         & A                                                            & Hampton Roads                                                & Norfolk City                                                 & Granby Street Bike Lanes                                     & 207.416667                                                   & 76.723                                                       & 63.01                                                       \\\\\n",
       "\t 1244                                                         & A                                                            & NOVA                                                         & Loudoun County                                               & Acquisition of Transit Buses                                 &  14.990444                                                   &  8.174                                                       & 45.47                                                       \\\\\n",
       "\t 1089                                                         & A                                                            & Hampton Roads                                                & Poquoson City                                                & Route 171 Widening - 2016                                    &   1.711018                                                   &  0.998                                                       & 41.67                                                       \\\\\n",
       "\t 1046                                                         & A                                                            & NOVA                                                         & Fairfax City                                                 & George Snyder Trail                                          &   8.536892                                                   &  3.804                                                       & 55.44                                                       \\\\\n",
       "\t 1213                                                         & A                                                            & NOVA                                                         & Loudoun County                                               & Pacific Boulevard (Route 28 to Old Ox Road)                  &  11.252912                                                   &  3.298                                                       & 70.69                                                       \\\\\n",
       "\t 1104                                                         & A                                                            & Fredericksburg                                               & George Washington Regional Commission                        & 107714: Improve Brooke and Leeland VRE Sta, Const PS VRE Sta &  31.560471                                                   & 14.948                                                       & 52.64                                                       \\\\\n",
       "\t 1223                                                         & A                                                            & NOVA                                                         & Loudoun County                                               & Route 9/Route 287 Roundabout                                 &   6.281966                                                   &  2.816                                                       & 55.17                                                       \\\\\n",
       "\t 1231                                                         & A                                                            & Hampton Roads                                                & York County                                                  & Route 171 Widening between Route 600 and Poquoson city line  &   2.185352                                                   &  1.013                                                       & 53.65                                                       \\\\\n",
       "\t 1187                                                         & A                                                            & Hampton Roads                                                & Chesapeake City                                              & George Washington Highway Widening                           &   3.248182                                                   &  0.947                                                       & 70.85                                                       \\\\\n",
       "\t 1442                                                         & A                                                            & Hampton Roads                                                & Poquoson City                                                & Route 171 (Victory Boulevard) Widening:  Poquoson Segment    &   1.943857                                                   &  1.050                                                       & 45.98                                                       \\\\\n",
       "\t 1186                                                           & A                                                              & NOVA                                                           & Vienna Town                                                    & Route 123 \\& 243 Traffic Signal Upgrades                      &  34.636209                                                     & 20.013                                                         & 42.22                                                         \\\\\n",
       "\t 1362                                                         & A                                                            & Hampton Roads                                                & Williamsburg City                                            & Capitol Landing Road at Bypass Road Intersection             &  19.941952                                                   &  7.418                                                       & 62.80                                                       \\\\\n",
       "\t 1207                                                         & A                                                            & NOVA                                                         & Loudoun County                                               & Lockridge Road (Old Ox Rd to Prentice Dr)                    &   3.298784                                                   &  0.626                                                       & 81.02                                                       \\\\\n",
       "\t 1361                                                         & A                                                            & Hampton Roads                                                & Williamsburg City                                            & Ironbound Road Phase 3                                       &   9.514823                                                   &  4.584                                                       & 51.82                                                       \\\\\n",
       "\t 1173                                                           & A                                                              & Hampton Roads                                                  & Williamsburg Area Transit Authority (WATA)                     & Bus Expansion \\& Three Expansion Bus Shelters                 & 119.118536                                                     & 43.283                                                         & 63.66                                                         \\\\\n",
       "\t 1295                                                         & A                                                            & NOVA                                                         & Prince William County                                        & Neabsco Mills Road Widening                                  &   1.833931                                                   &  1.080                                                       & 41.11                                                       \\\\\n",
       "\t 1217                                                         & A                                                            & Hampton Roads                                                & York County                                                  & Route 171 Widening between Route 134 and Big Bethel Road     &   1.562926                                                   &  0.626                                                       & 59.95                                                       \\\\\n",
       "\t 1166                                                         & A                                                            & Hampton Roads                                                & Chesapeake City                                              & Elbow Road Phase II Roadway Improvements                     &   2.075127                                                   &  0.455                                                       & 78.07                                                       \\\\\n",
       "\t 1035                                                         & A                                                            & Hampton Roads                                                & Newport News City                                            & Jefferson Avenue Widening Kings Ridge to Industrial Park     &   1.888772                                                   &  0.339                                                       & 82.05                                                       \\\\\n",
       "\t 1194                                                         & A                                                            & Fredericksburg                                               & Stafford County                                              & 3.\tStafford - Butler Road Widening                           &   3.177603                                                   &  1.195                                                       & 62.39                                                       \\\\\n",
       "\t 1144                                                         & A                                                            & Fredericksburg                                               & Spotsylvania County                                          & Widening of Smith Station Road at Courthouse Road            &   2.932744                                                   &  1.010                                                       & 65.56                                                       \\\\\n",
       "\t 1238                                                         & A                                                            & NOVA                                                         & Loudoun County                                               & Historic Hillsboro’s Main Street: Gateway to Rural Loudoun   &   1.933910                                                   &  0.650                                                       & 66.39                                                       \\\\\n",
       "\t 1631                                                           & A                                                              & NOVA                                                           & Loudoun County                                                 & Hillsboro's Historic Main Street—Traffic Calming \\& Sidewalks &   1.521434                                                     &  0.807                                                         & 46.96                                                         \\\\\n",
       "\t 1192                                                         & A                                                            & Fredericksburg                                               & Stafford County                                              & 2.\tStafford - Rt.1/Eskimo Hill Rd/American Legion Rd INT IMP &   1.269231                                                   &  0.733                                                       & 42.25                                                       \\\\\n",
       "\t 1246                                                         & A                                                            & Hampton Roads                                                & Suffolk City                                                 & Route 17 - Crittenden Road Intersection Realignment          &   1.651531                                                   &  0.750                                                       & 54.59                                                       \\\\\n",
       "\t 1148                                                         & A                                                            & Fredericksburg                                               & Spotsylvania County                                          & Bridge over I95 and Widening of Harrison Rd - Salem Chuch Rd &   1.329319                                                   &  0.356                                                       & 73.22                                                       \\\\\n",
       "\t 1672                                                         & A                                                            & Hampton Roads                                                & Isle of Wight County                                         & Nike Park Road at Titus Creek Drive Intersection Improvement &   4.079539                                                   &  0.475                                                       & 88.36                                                       \\\\\n",
       "\\end{tabular}\n"
      ],
      "text/markdown": [
       "\n",
       "App.Id | Area.Type | District | Organization.Name | Project.Title | Calc.SMART.SCALE.Score | SMART.SCALE.Score | SMART.SCALE.Diff.Percent | \n",
       "|---|---|---|---|---|---|---|---|---|---|---|---|---|---|---|---|---|---|---|---|---|---|---|---|---|---|---|---|---|---|---|---|---|---|---|---|---|---|---|\n",
       "| 1414                                                         | A                                                            | NOVA                                                         | Northern Virginia Transportation Commission                  | VRE Fredericksburg Line Capacity Expansion                   |  12.422545                                                   |  6.934                                                       | 44.18                                                        | \n",
       "| 1141                                                         | A                                                            | Fredericksburg                                               | Spotsylvania County                                          | Lafayette Blvd and Harrison Road                             |  69.982690                                                   | 33.516                                                       | 52.11                                                        | \n",
       "| 1216                                                         | A                                                            | NOVA                                                         | Loudoun County                                               | Prentice Drive Extension (Shellhorn Road to Lockridge Road)  |   6.224782                                                   |  3.397                                                       | 45.43                                                        | \n",
       "| 1299                                                         | A                                                            | NOVA                                                         | Prince William County                                        | Route 1/Jeff Davis Widening from Cardinal/Neabsco to Rte 234 |   1.422909                                                   |  0.737                                                       | 48.20                                                        | \n",
       "| 1115                                                         | A                                                            | NOVA                                                         | Fairfax County                                               | Richmond Highway Widening (Mt Vernon Hwy to Napper Rd)       |   3.210573                                                   |  1.479                                                       | 53.93                                                        | \n",
       "| 1453                                                         | A                                                            | Hampton Roads                                                | James City County                                            | Skiffes Creek Connector                                      | 157.569800                                                   | 78.768                                                       | 50.01                                                        | \n",
       "| 1126                                                         | A                                                            | NOVA                                                         | Loudoun County                                               | Evergreen Mills Road (Northstar Blvd to Loudoun County Pkwy) |   6.699072                                                   |  2.906                                                       | 56.62                                                        | \n",
       "| 1497                                                         | A                                                            | Hampton Roads                                                | Norfolk City                                                 | Hampton Boulevard and Terminal Boulevard Grade Separation    |   1.283302                                                   |  0.578                                                       | 54.96                                                        | \n",
       "| 1138                                                         | A                                                            | Fredericksburg                                               | Spotsylvania County                                          | Route 208 and Breckenridge Drive Intersection Improvements   | 146.055573                                                   | 15.659                                                       | 89.28                                                        | \n",
       "| 1296                                                         | A                                                            | NOVA                                                         | Prince William County                                        | Route 234 Bypass at Dumfries/PWP/Brentsville Rd Interchange  |   1.620574                                                   |  0.801                                                       | 50.57                                                        | \n",
       "| 1218                                                         | A                                                            | NOVA                                                         | Loudoun County                                               | Route 7/ Route 690 Interchange                               |  12.486759                                                   |  7.256                                                       | 41.89                                                        | \n",
       "| 1298                                                         | A                                                            | NOVA                                                         | Prince William County                                        | Route 1 & 123 Interchange                                    |   2.193862                                                   |  0.944                                                       | 56.97                                                        | \n",
       "| 1440                                                         | A                                                            | Hampton Roads                                                | Norfolk City                                                 | Granby Street Bike Lanes                                     | 207.416667                                                   | 76.723                                                       | 63.01                                                        | \n",
       "| 1244                                                         | A                                                            | NOVA                                                         | Loudoun County                                               | Acquisition of Transit Buses                                 |  14.990444                                                   |  8.174                                                       | 45.47                                                        | \n",
       "| 1089                                                         | A                                                            | Hampton Roads                                                | Poquoson City                                                | Route 171 Widening - 2016                                    |   1.711018                                                   |  0.998                                                       | 41.67                                                        | \n",
       "| 1046                                                         | A                                                            | NOVA                                                         | Fairfax City                                                 | George Snyder Trail                                          |   8.536892                                                   |  3.804                                                       | 55.44                                                        | \n",
       "| 1213                                                         | A                                                            | NOVA                                                         | Loudoun County                                               | Pacific Boulevard (Route 28 to Old Ox Road)                  |  11.252912                                                   |  3.298                                                       | 70.69                                                        | \n",
       "| 1104                                                         | A                                                            | Fredericksburg                                               | George Washington Regional Commission                        | 107714: Improve Brooke and Leeland VRE Sta, Const PS VRE Sta |  31.560471                                                   | 14.948                                                       | 52.64                                                        | \n",
       "| 1223                                                         | A                                                            | NOVA                                                         | Loudoun County                                               | Route 9/Route 287 Roundabout                                 |   6.281966                                                   |  2.816                                                       | 55.17                                                        | \n",
       "| 1231                                                         | A                                                            | Hampton Roads                                                | York County                                                  | Route 171 Widening between Route 600 and Poquoson city line  |   2.185352                                                   |  1.013                                                       | 53.65                                                        | \n",
       "| 1187                                                         | A                                                            | Hampton Roads                                                | Chesapeake City                                              | George Washington Highway Widening                           |   3.248182                                                   |  0.947                                                       | 70.85                                                        | \n",
       "| 1442                                                         | A                                                            | Hampton Roads                                                | Poquoson City                                                | Route 171 (Victory Boulevard) Widening:  Poquoson Segment    |   1.943857                                                   |  1.050                                                       | 45.98                                                        | \n",
       "| 1186                                                         | A                                                            | NOVA                                                         | Vienna Town                                                  | Route 123 & 243 Traffic Signal Upgrades                      |  34.636209                                                   | 20.013                                                       | 42.22                                                        | \n",
       "| 1362                                                         | A                                                            | Hampton Roads                                                | Williamsburg City                                            | Capitol Landing Road at Bypass Road Intersection             |  19.941952                                                   |  7.418                                                       | 62.80                                                        | \n",
       "| 1207                                                         | A                                                            | NOVA                                                         | Loudoun County                                               | Lockridge Road (Old Ox Rd to Prentice Dr)                    |   3.298784                                                   |  0.626                                                       | 81.02                                                        | \n",
       "| 1361                                                         | A                                                            | Hampton Roads                                                | Williamsburg City                                            | Ironbound Road Phase 3                                       |   9.514823                                                   |  4.584                                                       | 51.82                                                        | \n",
       "| 1173                                                         | A                                                            | Hampton Roads                                                | Williamsburg Area Transit Authority (WATA)                   | Bus Expansion & Three Expansion Bus Shelters                 | 119.118536                                                   | 43.283                                                       | 63.66                                                        | \n",
       "| 1295                                                         | A                                                            | NOVA                                                         | Prince William County                                        | Neabsco Mills Road Widening                                  |   1.833931                                                   |  1.080                                                       | 41.11                                                        | \n",
       "| 1217                                                         | A                                                            | Hampton Roads                                                | York County                                                  | Route 171 Widening between Route 134 and Big Bethel Road     |   1.562926                                                   |  0.626                                                       | 59.95                                                        | \n",
       "| 1166                                                         | A                                                            | Hampton Roads                                                | Chesapeake City                                              | Elbow Road Phase II Roadway Improvements                     |   2.075127                                                   |  0.455                                                       | 78.07                                                        | \n",
       "| 1035                                                         | A                                                            | Hampton Roads                                                | Newport News City                                            | Jefferson Avenue Widening Kings Ridge to Industrial Park     |   1.888772                                                   |  0.339                                                       | 82.05                                                        | \n",
       "| 1194                                                         | A                                                            | Fredericksburg                                               | Stafford County                                              | 3.\tStafford - Butler Road Widening                           |   3.177603                                                   |  1.195                                                       | 62.39                                                        | \n",
       "| 1144                                                         | A                                                            | Fredericksburg                                               | Spotsylvania County                                          | Widening of Smith Station Road at Courthouse Road            |   2.932744                                                   |  1.010                                                       | 65.56                                                        | \n",
       "| 1238                                                         | A                                                            | NOVA                                                         | Loudoun County                                               | Historic Hillsboro’s Main Street: Gateway to Rural Loudoun   |   1.933910                                                   |  0.650                                                       | 66.39                                                        | \n",
       "| 1631                                                         | A                                                            | NOVA                                                         | Loudoun County                                               | Hillsboro's Historic Main Street—Traffic Calming & Sidewalks |   1.521434                                                   |  0.807                                                       | 46.96                                                        | \n",
       "| 1192                                                         | A                                                            | Fredericksburg                                               | Stafford County                                              | 2.\tStafford - Rt.1/Eskimo Hill Rd/American Legion Rd INT IMP |   1.269231                                                   |  0.733                                                       | 42.25                                                        | \n",
       "| 1246                                                         | A                                                            | Hampton Roads                                                | Suffolk City                                                 | Route 17 - Crittenden Road Intersection Realignment          |   1.651531                                                   |  0.750                                                       | 54.59                                                        | \n",
       "| 1148                                                         | A                                                            | Fredericksburg                                               | Spotsylvania County                                          | Bridge over I95 and Widening of Harrison Rd - Salem Chuch Rd |   1.329319                                                   |  0.356                                                       | 73.22                                                        | \n",
       "| 1672                                                         | A                                                            | Hampton Roads                                                | Isle of Wight County                                         | Nike Park Road at Titus Creek Drive Intersection Improvement |   4.079539                                                   |  0.475                                                       | 88.36                                                        | \n",
       "\n",
       "\n"
      ],
      "text/plain": [
       "   App.Id Area.Type District       Organization.Name                          \n",
       "1  1414   A         NOVA           Northern Virginia Transportation Commission\n",
       "2  1141   A         Fredericksburg Spotsylvania County                        \n",
       "3  1216   A         NOVA           Loudoun County                             \n",
       "4  1299   A         NOVA           Prince William County                      \n",
       "5  1115   A         NOVA           Fairfax County                             \n",
       "6  1453   A         Hampton Roads  James City County                          \n",
       "7  1126   A         NOVA           Loudoun County                             \n",
       "8  1497   A         Hampton Roads  Norfolk City                               \n",
       "9  1138   A         Fredericksburg Spotsylvania County                        \n",
       "10 1296   A         NOVA           Prince William County                      \n",
       "11 1218   A         NOVA           Loudoun County                             \n",
       "12 1298   A         NOVA           Prince William County                      \n",
       "13 1440   A         Hampton Roads  Norfolk City                               \n",
       "14 1244   A         NOVA           Loudoun County                             \n",
       "15 1089   A         Hampton Roads  Poquoson City                              \n",
       "16 1046   A         NOVA           Fairfax City                               \n",
       "17 1213   A         NOVA           Loudoun County                             \n",
       "18 1104   A         Fredericksburg George Washington Regional Commission      \n",
       "19 1223   A         NOVA           Loudoun County                             \n",
       "20 1231   A         Hampton Roads  York County                                \n",
       "21 1187   A         Hampton Roads  Chesapeake City                            \n",
       "22 1442   A         Hampton Roads  Poquoson City                              \n",
       "23 1186   A         NOVA           Vienna Town                                \n",
       "24 1362   A         Hampton Roads  Williamsburg City                          \n",
       "25 1207   A         NOVA           Loudoun County                             \n",
       "26 1361   A         Hampton Roads  Williamsburg City                          \n",
       "27 1173   A         Hampton Roads  Williamsburg Area Transit Authority (WATA) \n",
       "28 1295   A         NOVA           Prince William County                      \n",
       "29 1217   A         Hampton Roads  York County                                \n",
       "30 1166   A         Hampton Roads  Chesapeake City                            \n",
       "31 1035   A         Hampton Roads  Newport News City                          \n",
       "32 1194   A         Fredericksburg Stafford County                            \n",
       "33 1144   A         Fredericksburg Spotsylvania County                        \n",
       "34 1238   A         NOVA           Loudoun County                             \n",
       "35 1631   A         NOVA           Loudoun County                             \n",
       "36 1192   A         Fredericksburg Stafford County                            \n",
       "37 1246   A         Hampton Roads  Suffolk City                               \n",
       "38 1148   A         Fredericksburg Spotsylvania County                        \n",
       "39 1672   A         Hampton Roads  Isle of Wight County                       \n",
       "   Project.Title                                               \n",
       "1  VRE Fredericksburg Line Capacity Expansion                  \n",
       "2  Lafayette Blvd and Harrison Road                            \n",
       "3  Prentice Drive Extension (Shellhorn Road to Lockridge Road) \n",
       "4  Route 1/Jeff Davis Widening from Cardinal/Neabsco to Rte 234\n",
       "5  Richmond Highway Widening (Mt Vernon Hwy to Napper Rd)      \n",
       "6  Skiffes Creek Connector                                     \n",
       "7  Evergreen Mills Road (Northstar Blvd to Loudoun County Pkwy)\n",
       "8  Hampton Boulevard and Terminal Boulevard Grade Separation   \n",
       "9  Route 208 and Breckenridge Drive Intersection Improvements  \n",
       "10 Route 234 Bypass at Dumfries/PWP/Brentsville Rd Interchange \n",
       "11 Route 7/ Route 690 Interchange                              \n",
       "12 Route 1 & 123 Interchange                                   \n",
       "13 Granby Street Bike Lanes                                    \n",
       "14 Acquisition of Transit Buses                                \n",
       "15 Route 171 Widening - 2016                                   \n",
       "16 George Snyder Trail                                         \n",
       "17 Pacific Boulevard (Route 28 to Old Ox Road)                 \n",
       "18 107714: Improve Brooke and Leeland VRE Sta, Const PS VRE Sta\n",
       "19 Route 9/Route 287 Roundabout                                \n",
       "20 Route 171 Widening between Route 600 and Poquoson city line \n",
       "21 George Washington Highway Widening                          \n",
       "22 Route 171 (Victory Boulevard) Widening:  Poquoson Segment   \n",
       "23 Route 123 & 243 Traffic Signal Upgrades                     \n",
       "24 Capitol Landing Road at Bypass Road Intersection            \n",
       "25 Lockridge Road (Old Ox Rd to Prentice Dr)                   \n",
       "26 Ironbound Road Phase 3                                      \n",
       "27 Bus Expansion & Three Expansion Bus Shelters                \n",
       "28 Neabsco Mills Road Widening                                 \n",
       "29 Route 171 Widening between Route 134 and Big Bethel Road    \n",
       "30 Elbow Road Phase II Roadway Improvements                    \n",
       "31 Jefferson Avenue Widening Kings Ridge to Industrial Park    \n",
       "32 3.\\tStafford - Butler Road Widening                          \n",
       "33 Widening of Smith Station Road at Courthouse Road           \n",
       "34 Historic Hillsboros Main Street: Gateway to Rural Loudoun  \n",
       "35 Hillsboro's Historic Main StreetTraffic Calming & Sidewalks\n",
       "36 2.\\tStafford - Rt.1/Eskimo Hill Rd/American Legion Rd INT IMP\n",
       "37 Route 17 - Crittenden Road Intersection Realignment         \n",
       "38 Bridge over I95 and Widening of Harrison Rd - Salem Chuch Rd\n",
       "39 Nike Park Road at Titus Creek Drive Intersection Improvement\n",
       "   Calc.SMART.SCALE.Score SMART.SCALE.Score SMART.SCALE.Diff.Percent\n",
       "1   12.422545              6.934            44.18                   \n",
       "2   69.982690             33.516            52.11                   \n",
       "3    6.224782              3.397            45.43                   \n",
       "4    1.422909              0.737            48.20                   \n",
       "5    3.210573              1.479            53.93                   \n",
       "6  157.569800             78.768            50.01                   \n",
       "7    6.699072              2.906            56.62                   \n",
       "8    1.283302              0.578            54.96                   \n",
       "9  146.055573             15.659            89.28                   \n",
       "10   1.620574              0.801            50.57                   \n",
       "11  12.486759              7.256            41.89                   \n",
       "12   2.193862              0.944            56.97                   \n",
       "13 207.416667             76.723            63.01                   \n",
       "14  14.990444              8.174            45.47                   \n",
       "15   1.711018              0.998            41.67                   \n",
       "16   8.536892              3.804            55.44                   \n",
       "17  11.252912              3.298            70.69                   \n",
       "18  31.560471             14.948            52.64                   \n",
       "19   6.281966              2.816            55.17                   \n",
       "20   2.185352              1.013            53.65                   \n",
       "21   3.248182              0.947            70.85                   \n",
       "22   1.943857              1.050            45.98                   \n",
       "23  34.636209             20.013            42.22                   \n",
       "24  19.941952              7.418            62.80                   \n",
       "25   3.298784              0.626            81.02                   \n",
       "26   9.514823              4.584            51.82                   \n",
       "27 119.118536             43.283            63.66                   \n",
       "28   1.833931              1.080            41.11                   \n",
       "29   1.562926              0.626            59.95                   \n",
       "30   2.075127              0.455            78.07                   \n",
       "31   1.888772              0.339            82.05                   \n",
       "32   3.177603              1.195            62.39                   \n",
       "33   2.932744              1.010            65.56                   \n",
       "34   1.933910              0.650            66.39                   \n",
       "35   1.521434              0.807            46.96                   \n",
       "36   1.269231              0.733            42.25                   \n",
       "37   1.651531              0.750            54.59                   \n",
       "38   1.329319              0.356            73.22                   \n",
       "39   4.079539              0.475            88.36                   "
      ]
     },
     "metadata": {},
     "output_type": "display_data"
    },
    {
     "name": "stderr",
     "output_type": "stream",
     "text": [
      "Number of projects with significant differences: 39\n"
     ]
    }
   ],
   "source": [
    "data$SMART.SCALE.Diff.Percent <- round((100 * (data$Calc.SMART.SCALE.Score - data$SMART.SCALE.Score) / \n",
    "                                        data$Calc.SMART.SCALE.Score), 2)\n",
    "sig.diffs <- subset(data, Calc.SMART.SCALE.Score > 1 & abs(SMART.SCALE.Diff.Percent) > 40)\n",
    "rownames(sig.diffs) <- 1:nrow(sig.diffs)\n",
    "sig.diffs[c('App.Id', 'Area.Type', 'District', 'Organization.Name', 'Project.Title', 'Calc.SMART.SCALE.Score', \n",
    "            'SMART.SCALE.Score', 'SMART.SCALE.Diff.Percent')]\n",
    "message(paste('Number of projects with significant differences:', nrow(sig.diffs)))"
   ]
  },
  {
   "cell_type": "markdown",
   "metadata": {},
   "source": [
    "### 4.2 Synopsis and Conclusions\n",
    "\n",
    "In this section we examined whether the Smart Scale scoring methodology was consistently applied to the projects in the dataset by independently implementing the calculation method specified in the technical guide and comparing the results to the assigned Smart Scale score. The degree of agreement was determined using linear regression fitting the assigned score to the calculated score. The results suggest that in the overwhelming majority of projects the methodology was applied consistently and in conformance to the November 2017 technical guide. However, for 39 projects there was a large (>40%) difference between the calculated and assigned scores.\n",
    "\n",
    "## V. The Effect of Prioritizing Accessibility on Fredericksburg Projects\n",
    "\n",
    "The Fredericksburg area is unique in that a large percentage of its workforce commutes outside the region. Accordingly, in this section we will examine the effect of two hypothetical scenarios which give priority to the Accessibility factor in calculating the Smart Scale Scores of projects in the Fredericksburg district. Specifically, three scenarios will be compared: 1) the current SSS calculation method as specified in the November 2017 technical guide, 2) a SSS calculation method that give priority to the Accessibility factor, and 3) a SSS calculation method that gives priority to the Accessibility factor while simultaneously increasing the Access to Jobs metric by a factor of 1.5 for projects in the Fredericksburg region (explained further below). In each case we will look at the number of Fredericksburg projects appearing in different percentile ranges by Smart Scale Score. These scenarios will be referred to as 1, 2, and 3, respectively.\n",
    "\n",
    "The Accessibility factor is composed of the weighted average of three measures: 1) Access to Jobs (60%), 2) Access to Jobs for Disadvantaged Populations (20%), and 3) Access to Multimodal Choices (20%) (Nov. 2017 Technical Guide, p. 29). In Appendix C of the technical guide, the \"Access to Jobs\" measure is defined as the average increase in accessibility to jobs within 45 minutes. According to a recent study, approximately 37% of the workforce in Fredericksburg commutes outside the region, with more than 50% of these commuters commuting for an hour or more [1]. The vast majority of these commute to Northern VA, DC, Richmond, and Maryland - nearly all of which are beyond 45 minutes. A more appropriate measure for Fredericksburg would thus be to use a 75-minute reach or greater. Since there is no way to know how this reach would change the Access to Jobs without the GIS tool, an estimated increase of 1.5 times the current numbers will be used in scenario 3.\n",
    "\n",
    "To begin, we inspect the number of Fredericksburg projects in different areas:"
   ]
  },
  {
   "cell_type": "code",
   "execution_count": 15,
   "metadata": {},
   "outputs": [
    {
     "data": {
      "text/html": [
       "<table>\n",
       "<thead><tr><th scope=col>Area.Type</th><th scope=col>Count</th></tr></thead>\n",
       "<tbody>\n",
       "\t<tr><td>A </td><td>14</td></tr>\n",
       "\t<tr><td>B </td><td> 0</td></tr>\n",
       "\t<tr><td>C </td><td> 0</td></tr>\n",
       "\t<tr><td>D </td><td>11</td></tr>\n",
       "</tbody>\n",
       "</table>\n"
      ],
      "text/latex": [
       "\\begin{tabular}{r|ll}\n",
       " Area.Type & Count\\\\\n",
       "\\hline\n",
       "\t A  & 14\\\\\n",
       "\t B  &  0\\\\\n",
       "\t C  &  0\\\\\n",
       "\t D  & 11\\\\\n",
       "\\end{tabular}\n"
      ],
      "text/markdown": [
       "\n",
       "Area.Type | Count | \n",
       "|---|---|---|---|\n",
       "| A  | 14 | \n",
       "| B  |  0 | \n",
       "| C  |  0 | \n",
       "| D  | 11 | \n",
       "\n",
       "\n"
      ],
      "text/plain": [
       "  Area.Type Count\n",
       "1 A         14   \n",
       "2 B          0   \n",
       "3 C          0   \n",
       "4 D         11   "
      ]
     },
     "metadata": {},
     "output_type": "display_data"
    }
   ],
   "source": [
    "fb <- subset(data, District=='Fredericksburg')\n",
    "dt5 <- data.frame(table(fb$Area.Type))\n",
    "colnames(dt5) <- c('Area.Type', 'Count')\n",
    "dt5"
   ]
  },
  {
   "cell_type": "markdown",
   "metadata": {},
   "source": [
    "Thus, Fredericksburg has 14 projects in area type A and 11 in D for a total of 25 projects. In the technical guide, Table 4.2 on p. 36, the factor weights by area type are as follows:\n",
    "\n",
    "![alt text](./table-4.2.png)\n"
   ]
  },
  {
   "cell_type": "markdown",
   "metadata": {},
   "source": [
    "Since all Fredericksburg projects are within area types A and D, we will reassign priorities as follows. In type A, we will give Accessibility a weight of 45% and Congestion Mitigation a weight of 15%. In type D we will give Accessibility a weight of 35% and Economic Development a weight of 15%.\n",
    "\n",
    "Below we will recalculate the Smart Scale Scores and percentile ranges under each assumption and see how this changes the distribution of Fredericksburg projects. \n",
    "\n",
    "### 5.1 Calculation of Smart Scale Scores Under Scenarios 2 and 3\n",
    "\n",
    "We begin by calculating the new SSS for scenarios 2 and 3 below."
   ]
  },
  {
   "cell_type": "code",
   "execution_count": 16,
   "metadata": {},
   "outputs": [],
   "source": [
    "# ------ Recalculate for scenario 2\n",
    "# Recalculate Project Benefit with revised weightings and add the new column to the data.\n",
    "data['Calc.Project.Benefit.Score.Scenario.2'] <- calc.proj.value(data, weight.a=c(0.15, 0.5, 0.45, 0.5, 0.1, 0.2),\n",
    "                                                                       weight.d=c(0.10, 0.15, 0.35, 0.3, 0.1))\n",
    "# Add a new SSS column under the scenario 2 assumptions\n",
    "data['Calc.SMART.SCALE.Score.Scenario.2'] <- (1e7 * data[['Calc.Project.Benefit.Score.Scenario.2']] / \n",
    "                                              data[['SMART.SCALE.Request']]) \n",
    "\n",
    "# ------ Recalculate for scenario 3\n",
    "# First, adjust the Fredericksburg Access.to.Jobs values by the designated factor.\n",
    "a2j.factor <- 1.5\n",
    "for(i in 1:nrow(data)) {\n",
    "    if(data[i, 'District'] == 'Fredericksburg') {data[i, 'Access.to.Jobs'] = a2j.factor * data[i, 'Access.to.Jobs']}\n",
    "}    \n",
    "# Second, renormalize the Access.to.Jobs column.\n",
    "data$Access.to.Jobs <- 100 * data$Access.to.Jobs / max(data$Access.to.Jobs)\n",
    "    \n",
    "# Third, recalculate the Accessibility factor\n",
    "data$Accessibility.Score <- weighted.column.average(data, c(0.6, 0.2, 0.2), \n",
    "                                                    c('Access.to.Jobs', 'Disadvantaged.Access.to.Jobs', \n",
    "                                                      'Multimodal.Access.Score'))\n",
    "    \n",
    "# Fourth, add a new column to data with our calculated project benefit scores for scenario 3\n",
    "data['Calc.Project.Benefit.Score.Scenario.3'] <- calc.proj.value(data, weight.a=c(0.15, 0.5, 0.45, 0.5, 0.1, 0.2),\n",
    "                                                                       weight.d=c(0.10, 0.15, 0.35, 0.3, 0.1))\n",
    "\n",
    "# Fifth, add a new SSS column under the scenario 3 assumptions\n",
    "data['Calc.SMART.SCALE.Score.Scenario.3'] <- (1e7 * data[['Calc.Project.Benefit.Score.Scenario.3']] / \n",
    "                                              data[['SMART.SCALE.Request']]) \n"
   ]
  },
  {
   "cell_type": "markdown",
   "metadata": {},
   "source": [
    "### 5.2 Comparison of Scenarios\n",
    "\n",
    "Below we perform the comparisons of scenarios. We first look at the number of Fredericksburg projects falling into different Smart Scale Score percentile bands in each scenario. By ranking the discrete percentile bands from 1 being the lowest to 8 being the highest, we then compare the average percentile ranking of Smart Scale scores for the Fredericksburg projects under each scenario."
   ]
  },
  {
   "cell_type": "code",
   "execution_count": 17,
   "metadata": {},
   "outputs": [
    {
     "data": {
      "text/html": [
       "<table>\n",
       "<thead><tr><th scope=col>Percentile_Rank</th><th scope=col>Percentile_Band</th><th scope=col>Scenario_1_Fredericksburg_Project_Count</th><th scope=col>Scenario_2_Fredericksburg_Project_Count</th><th scope=col>Scenario_3_Fredericksburg_Project_Count</th></tr></thead>\n",
       "<tbody>\n",
       "\t<tr><td>1      </td><td>0-5%   </td><td>0      </td><td>0      </td><td>0      </td></tr>\n",
       "\t<tr><td>2      </td><td>5-10%  </td><td>2      </td><td>2      </td><td>2      </td></tr>\n",
       "\t<tr><td>3      </td><td>10-25% </td><td>5      </td><td>2      </td><td>2      </td></tr>\n",
       "\t<tr><td>4      </td><td>25-50% </td><td>7      </td><td>8      </td><td>8      </td></tr>\n",
       "\t<tr><td>5      </td><td>50-75% </td><td>5      </td><td>7      </td><td>7      </td></tr>\n",
       "\t<tr><td>6      </td><td>75-90% </td><td>3      </td><td>1      </td><td>1      </td></tr>\n",
       "\t<tr><td>7      </td><td>90-95% </td><td>2      </td><td>2      </td><td>2      </td></tr>\n",
       "\t<tr><td>8      </td><td>95-100%</td><td>1      </td><td>3      </td><td>3      </td></tr>\n",
       "</tbody>\n",
       "</table>\n"
      ],
      "text/latex": [
       "\\begin{tabular}{r|lllll}\n",
       " Percentile\\_Rank & Percentile\\_Band & Scenario\\_1\\_Fredericksburg\\_Project\\_Count & Scenario\\_2\\_Fredericksburg\\_Project\\_Count & Scenario\\_3\\_Fredericksburg\\_Project\\_Count\\\\\n",
       "\\hline\n",
       "\t 1         & 0-5\\%    & 0         & 0         & 0        \\\\\n",
       "\t 2         & 5-10\\%   & 2         & 2         & 2        \\\\\n",
       "\t 3         & 10-25\\%  & 5         & 2         & 2        \\\\\n",
       "\t 4         & 25-50\\%  & 7         & 8         & 8        \\\\\n",
       "\t 5         & 50-75\\%  & 5         & 7         & 7        \\\\\n",
       "\t 6         & 75-90\\%  & 3         & 1         & 1        \\\\\n",
       "\t 7         & 90-95\\%  & 2         & 2         & 2        \\\\\n",
       "\t 8         & 95-100\\% & 1         & 3         & 3        \\\\\n",
       "\\end{tabular}\n"
      ],
      "text/markdown": [
       "\n",
       "Percentile_Rank | Percentile_Band | Scenario_1_Fredericksburg_Project_Count | Scenario_2_Fredericksburg_Project_Count | Scenario_3_Fredericksburg_Project_Count | \n",
       "|---|---|---|---|---|---|---|---|\n",
       "| 1       | 0-5%    | 0       | 0       | 0       | \n",
       "| 2       | 5-10%   | 2       | 2       | 2       | \n",
       "| 3       | 10-25%  | 5       | 2       | 2       | \n",
       "| 4       | 25-50%  | 7       | 8       | 8       | \n",
       "| 5       | 50-75%  | 5       | 7       | 7       | \n",
       "| 6       | 75-90%  | 3       | 1       | 1       | \n",
       "| 7       | 90-95%  | 2       | 2       | 2       | \n",
       "| 8       | 95-100% | 1       | 3       | 3       | \n",
       "\n",
       "\n"
      ],
      "text/plain": [
       "  Percentile_Rank Percentile_Band Scenario_1_Fredericksburg_Project_Count\n",
       "1 1               0-5%            0                                      \n",
       "2 2               5-10%           2                                      \n",
       "3 3               10-25%          5                                      \n",
       "4 4               25-50%          7                                      \n",
       "5 5               50-75%          5                                      \n",
       "6 6               75-90%          3                                      \n",
       "7 7               90-95%          2                                      \n",
       "8 8               95-100%         1                                      \n",
       "  Scenario_2_Fredericksburg_Project_Count\n",
       "1 0                                      \n",
       "2 2                                      \n",
       "3 2                                      \n",
       "4 8                                      \n",
       "5 7                                      \n",
       "6 1                                      \n",
       "7 2                                      \n",
       "8 3                                      \n",
       "  Scenario_3_Fredericksburg_Project_Count\n",
       "1 0                                      \n",
       "2 2                                      \n",
       "3 2                                      \n",
       "4 8                                      \n",
       "5 7                                      \n",
       "6 1                                      \n",
       "7 2                                      \n",
       "8 3                                      "
      ]
     },
     "metadata": {},
     "output_type": "display_data"
    },
    {
     "data": {
      "text/html": [
       "<table>\n",
       "<thead><tr><th scope=col>Scenario</th><th scope=col>Average_Fredericksburg_Percentile_Rank</th><th scope=col>Average_Fredericksburg_Smart_Scale_Score</th></tr></thead>\n",
       "<tbody>\n",
       "\t<tr><td>1       </td><td>4.48    </td><td> 8.90232</td></tr>\n",
       "\t<tr><td>2       </td><td>4.84    </td><td>16.79552</td></tr>\n",
       "\t<tr><td>3       </td><td>4.84    </td><td>17.01152</td></tr>\n",
       "</tbody>\n",
       "</table>\n"
      ],
      "text/latex": [
       "\\begin{tabular}{r|lll}\n",
       " Scenario & Average\\_Fredericksburg\\_Percentile\\_Rank & Average\\_Fredericksburg\\_Smart\\_Scale\\_Score\\\\\n",
       "\\hline\n",
       "\t 1        & 4.48     &  8.90232\\\\\n",
       "\t 2        & 4.84     & 16.79552\\\\\n",
       "\t 3        & 4.84     & 17.01152\\\\\n",
       "\\end{tabular}\n"
      ],
      "text/markdown": [
       "\n",
       "Scenario | Average_Fredericksburg_Percentile_Rank | Average_Fredericksburg_Smart_Scale_Score | \n",
       "|---|---|---|\n",
       "| 1        | 4.48     |  8.90232 | \n",
       "| 2        | 4.84     | 16.79552 | \n",
       "| 3        | 4.84     | 17.01152 | \n",
       "\n",
       "\n"
      ],
      "text/plain": [
       "  Scenario Average_Fredericksburg_Percentile_Rank\n",
       "1 1        4.48                                  \n",
       "2 2        4.84                                  \n",
       "3 3        4.84                                  \n",
       "  Average_Fredericksburg_Smart_Scale_Score\n",
       "1  8.90232                                \n",
       "2 16.79552                                \n",
       "3 17.01152                                "
      ]
     },
     "metadata": {},
     "output_type": "display_data"
    }
   ],
   "source": [
    "# For a list of ranges and a vector, this function tabulates the counts by range.\n",
    "tabulate.by.ranges <- function(v, ranges) {\n",
    "  counts <- c()\n",
    "  ranges <- sort(ranges)\n",
    "  i <- 1\n",
    "  for(i in 1:length(ranges)) {\n",
    "    if(i == 1) {\n",
    "      counts[1] <- sum(v <= ranges[1])\n",
    "    }\n",
    "    else {\n",
    "      counts[i] <- sum((v > ranges[i - 1]) & (v <= ranges[i]))\n",
    "    }\n",
    "  }\n",
    "  counts\n",
    "}\n",
    "\n",
    "# Compare the scenarios.\n",
    "sss1.ord <- sort(data$SMART.SCALE.Score)\n",
    "sss2.ord <- sort(data$Calc.SMART.SCALE.Score.Scenario.2)\n",
    "sss3.ord <- sort(data$Calc.SMART.SCALE.Score.Scenario.3)\n",
    "percentiles <- c(0.05, 0.1, 0.25, 0.5, 0.75, 0.9, 0.95, 1) \n",
    "cut.scores.1 <- sapply(percentiles, function(p){sss1.ord[ceiling(p * nrow(data))]})\n",
    "cut.scores.2 <- sapply(percentiles, function(p){sss2.ord[ceiling(p * nrow(data))]})\n",
    "cut.scores.3 <- sapply(percentiles, function(p){sss3.ord[ceiling(p * nrow(data))]})\n",
    "\n",
    "fb <- subset(data, District=='Fredericksburg')\n",
    "\n",
    "counts.1 <- tabulate.by.ranges(fb$SMART.SCALE.Score, cut.scores.1)\n",
    "counts.2 <- tabulate.by.ranges(fb$Calc.SMART.SCALE.Score.Scenario.2, cut.scores.1)\n",
    "counts.3 <- tabulate.by.ranges(fb$Calc.SMART.SCALE.Score.Scenario.3, cut.scores.3)\n",
    "\n",
    "perc.range <-  c('0-5%', '5-10%', '10-25%', '25-50%', \n",
    "                 '50-75%', '75-90%', '90-95%', '95-100%')\n",
    "\n",
    "scenarios <- data.frame(Percentile_Rank=1:length(perc.range),\n",
    "                        Percentile_Band=perc.range,\n",
    "                        Scenario_1_Fredericksburg_Project_Count=counts.1,\n",
    "                        Scenario_2_Fredericksburg_Project_Count=counts.2,\n",
    "                        Scenario_3_Fredericksburg_Project_Count=counts.3)\n",
    "scenarios\n",
    "\n",
    "avg.perc.rank <- data.frame(Scenario=1:3,\n",
    "                    Average_Fredericksburg_Percentile_Rank=c(sum(scenarios$Percentile_Rank * counts.1) / sum(counts.1),\n",
    "                                                             sum(scenarios$Percentile_Rank * counts.2) / sum(counts.2),\n",
    "                                                             sum(scenarios$Percentile_Rank * counts.3) / sum(counts.3)),\n",
    "                            Average_Fredericksburg_Smart_Scale_Score=c(mean(fb$SMART.SCALE.Score),\n",
    "                                                                       mean(fb$Calc.SMART.SCALE.Score.Scenario.2),\n",
    "                                                                       mean(fb$Calc.SMART.SCALE.Score.Scenario.3)))\n",
    "avg.perc.rank"
   ]
  },
  {
   "cell_type": "markdown",
   "metadata": {},
   "source": [
    "In the first table above we see the counts of projects within the Fredericksburg district arranged by percentile under scenarios 1 (current), 2 (prioritization of Accessibility factor for area types A and D), and 3 (prioritization of Accessibility factor for area types A and D + 1.5x increased \"Access to Jobs\" measures for Fredericksburg district). In the second table we see the average Fredericksburg percentile rank and average Fredericksburg Smart Scale Scores for each scenario. Two observations are apparent:\n",
    "\n",
    "1. There is no major difference between scenarios 2 and 3. The 1.5x increase in \"Access to Jobs\", while leading to slightly higher average SSS in scenario 3 over scenario 2, was not enough to move the percentile ranks upward any further.\n",
    "\n",
    "2. There is a noticeable upward movement in Fredericksburg project SSS and percentile rank in scenarios which prioritize the Accessibility factor (i.e. in scenarios 2 and 3), with the 25-50%, 50-75%, and 95-100% bands seeing significant increases in the number of Fredericksburg projects. Of the 25 Fredericksburg projects in the dataset, two projects moved into the 50-75% band and two more moved into the very top band (95-100%). This is summarized by the small rise in average percentile rank from 4.48 under current calculation methodology up to 4.84 under the alternative methodologies in scenarios 2 and 3.\n",
    "\n",
    "### 5.3 Synopsis and Conclusions\n",
    "\n",
    "The factor weightings currently used (as specified in the Nov. 2017 technical guide) place relatively low priority on the Accessibility factor in area types A and D and thus do not reflect the unique commuter conditions found in the Fredericksburg region. Accordingly, the full impact of Fredericksburg-based projects may be underestimated under the current Smart Scale Methodology.\n",
    "\n",
    "## VI. Conclusions\n",
    "\n",
    "This study performed a statistical analysis on a set of 404 projects transportation scored using the Virginia Smart Scale methodology. Descriptive statistics were first provided which characterize the data over several project features. An analysis was then performed to see whether the Smart Scale methodology was applied consistently to the projects. The results indicate that the scoring methodolgy was applied consistently to the vast majority of projects. However, in 39 of the 404 projects there was a difference between calculated and assigned scores of more than 40%. Finally, the study considered whether increasing the emphasis on Accessibility in the scoring calculation would increase teh competitiveness of projects within the Fredericksburg area. The results indicate that increasing the emphasis on Accessibility would lead to small increases in average percentile ranking of Fredericksburg projects by Smart Scale Score. Accordingly, because Fredericksburg has such a large percentage of its workforce which commutes outside the area, the impact of Fredericksburg-based projects may be underestimated by using the current Smart Scale methodology.   \n",
    "\n",
    "## References\n",
    "\n",
    "[1] Hansen, B.A. (2016). \"Fredericksburg Region Commuter Workforce Skills Study\", University of Mary Washington study prepared for the Fredericksburg Regional Alliance and the Fredericksburg Regional Chamber of Commerce, Accessed at [http://www.umw.edu/news/wp-content/uploads/sites/7/2016/05/Report-on-Commuters-FINAL_mm.pdf](http://www.umw.edu/news/wp-content/uploads/sites/7/2016/05/Report-on-Commuters-FINAL_mm.pdf)"
   ]
  },
  {
   "cell_type": "code",
   "execution_count": null,
   "metadata": {},
   "outputs": [],
   "source": []
  }
 ],
 "metadata": {
  "kernelspec": {
   "display_name": "R",
   "language": "R",
   "name": "ir"
  },
  "language_info": {
   "codemirror_mode": "r",
   "file_extension": ".r",
   "mimetype": "text/x-r-source",
   "name": "R",
   "pygments_lexer": "r",
   "version": "3.4.3"
  }
 },
 "nbformat": 4,
 "nbformat_minor": 2
}
